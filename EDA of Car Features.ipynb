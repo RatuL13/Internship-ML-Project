{
 "cells": [
  {
   "cell_type": "markdown",
   "metadata": {},
   "source": [
    "# Exploratory Data Analysis(EDA) Of Car Features in Python"
   ]
  },
  {
   "cell_type": "markdown",
   "metadata": {},
   "source": [
    "### About Exploratory Data Analysis\n",
    "\n",
    "Exploratory Data Analysis refers to the critical process of performing initial investigations on data so as to discover patterns,to spot anomalies,to test hypothesis and to check assumptions with the help of summary statistics and graphical representations. EDA is an approach/philosophy for data analysis that employs a variety of techniques (mostly graphical) to\n",
    "* maximize insight into a data set\n",
    "* uncover underlying structure\n",
    "* extract important variables\n",
    "* detect outliers and anomalies\n",
    "* test underlying assumptions\n",
    "* develop parsimonious models and\n",
    "* determine optimal factor settings.\n"
   ]
  },
  {
   "cell_type": "markdown",
   "metadata": {},
   "source": [
    "## 1.Importing the Required Libraries and dataset"
   ]
  },
  {
   "cell_type": "code",
   "execution_count": 124,
   "metadata": {},
   "outputs": [],
   "source": [
    "# including necessary modules such as pandas, matplotlib, seaborn and numpy\n",
    "import pandas as pd\n",
    "import numpy as np\n",
    "# for visualisation\n",
    "import seaborn as sns                       \n",
    "import matplotlib.pyplot as plt     "
   ]
  },
  {
   "cell_type": "code",
   "execution_count": 125,
   "metadata": {},
   "outputs": [
    {
     "data": {
      "text/plain": [
       "u'C:\\\\Users\\\\User-Pc\\\\Desktop\\\\Exploratory Data Analysis'"
      ]
     },
     "execution_count": 125,
     "metadata": {},
     "output_type": "execute_result"
    }
   ],
   "source": [
    "pwd # getting current path of directory"
   ]
  },
  {
   "cell_type": "markdown",
   "metadata": {},
   "source": [
    "### 1.1 Loading the data into the data frame."
   ]
  },
  {
   "cell_type": "code",
   "execution_count": 126,
   "metadata": {},
   "outputs": [],
   "source": [
    "#reading csv file\n",
    "cars_data=pd.read_csv(\"C:\\\\Users\\\\User-Pc\\\\Desktop\\\\Exploratory Data Analysis\\data.csv\")"
   ]
  },
  {
   "cell_type": "code",
   "execution_count": 127,
   "metadata": {},
   "outputs": [
    {
     "data": {
      "text/html": [
       "<div>\n",
       "<style scoped>\n",
       "    .dataframe tbody tr th:only-of-type {\n",
       "        vertical-align: middle;\n",
       "    }\n",
       "\n",
       "    .dataframe tbody tr th {\n",
       "        vertical-align: top;\n",
       "    }\n",
       "\n",
       "    .dataframe thead th {\n",
       "        text-align: right;\n",
       "    }\n",
       "</style>\n",
       "<table border=\"1\" class=\"dataframe\">\n",
       "  <thead>\n",
       "    <tr style=\"text-align: right;\">\n",
       "      <th></th>\n",
       "      <th>Make</th>\n",
       "      <th>Model</th>\n",
       "      <th>Year</th>\n",
       "      <th>Engine Fuel Type</th>\n",
       "      <th>Engine HP</th>\n",
       "      <th>Engine Cylinders</th>\n",
       "      <th>Transmission Type</th>\n",
       "      <th>Driven_Wheels</th>\n",
       "      <th>Number of Doors</th>\n",
       "      <th>Market Category</th>\n",
       "      <th>Vehicle Size</th>\n",
       "      <th>Vehicle Style</th>\n",
       "      <th>highway MPG</th>\n",
       "      <th>city mpg</th>\n",
       "      <th>Popularity</th>\n",
       "      <th>MSRP</th>\n",
       "    </tr>\n",
       "  </thead>\n",
       "  <tbody>\n",
       "    <tr>\n",
       "      <th>0</th>\n",
       "      <td>BMW</td>\n",
       "      <td>1 Series M</td>\n",
       "      <td>2011</td>\n",
       "      <td>premium unleaded (required)</td>\n",
       "      <td>335.0</td>\n",
       "      <td>6.0</td>\n",
       "      <td>MANUAL</td>\n",
       "      <td>rear wheel drive</td>\n",
       "      <td>2.0</td>\n",
       "      <td>Factory Tuner,Luxury,High-Performance</td>\n",
       "      <td>Compact</td>\n",
       "      <td>Coupe</td>\n",
       "      <td>26</td>\n",
       "      <td>19</td>\n",
       "      <td>3916</td>\n",
       "      <td>46135</td>\n",
       "    </tr>\n",
       "    <tr>\n",
       "      <th>1</th>\n",
       "      <td>BMW</td>\n",
       "      <td>1 Series</td>\n",
       "      <td>2011</td>\n",
       "      <td>premium unleaded (required)</td>\n",
       "      <td>300.0</td>\n",
       "      <td>6.0</td>\n",
       "      <td>MANUAL</td>\n",
       "      <td>rear wheel drive</td>\n",
       "      <td>2.0</td>\n",
       "      <td>Luxury,Performance</td>\n",
       "      <td>Compact</td>\n",
       "      <td>Convertible</td>\n",
       "      <td>28</td>\n",
       "      <td>19</td>\n",
       "      <td>3916</td>\n",
       "      <td>40650</td>\n",
       "    </tr>\n",
       "    <tr>\n",
       "      <th>2</th>\n",
       "      <td>BMW</td>\n",
       "      <td>1 Series</td>\n",
       "      <td>2011</td>\n",
       "      <td>premium unleaded (required)</td>\n",
       "      <td>300.0</td>\n",
       "      <td>6.0</td>\n",
       "      <td>MANUAL</td>\n",
       "      <td>rear wheel drive</td>\n",
       "      <td>2.0</td>\n",
       "      <td>Luxury,High-Performance</td>\n",
       "      <td>Compact</td>\n",
       "      <td>Coupe</td>\n",
       "      <td>28</td>\n",
       "      <td>20</td>\n",
       "      <td>3916</td>\n",
       "      <td>36350</td>\n",
       "    </tr>\n",
       "    <tr>\n",
       "      <th>3</th>\n",
       "      <td>BMW</td>\n",
       "      <td>1 Series</td>\n",
       "      <td>2011</td>\n",
       "      <td>premium unleaded (required)</td>\n",
       "      <td>230.0</td>\n",
       "      <td>6.0</td>\n",
       "      <td>MANUAL</td>\n",
       "      <td>rear wheel drive</td>\n",
       "      <td>2.0</td>\n",
       "      <td>Luxury,Performance</td>\n",
       "      <td>Compact</td>\n",
       "      <td>Coupe</td>\n",
       "      <td>28</td>\n",
       "      <td>18</td>\n",
       "      <td>3916</td>\n",
       "      <td>29450</td>\n",
       "    </tr>\n",
       "    <tr>\n",
       "      <th>4</th>\n",
       "      <td>BMW</td>\n",
       "      <td>1 Series</td>\n",
       "      <td>2011</td>\n",
       "      <td>premium unleaded (required)</td>\n",
       "      <td>230.0</td>\n",
       "      <td>6.0</td>\n",
       "      <td>MANUAL</td>\n",
       "      <td>rear wheel drive</td>\n",
       "      <td>2.0</td>\n",
       "      <td>Luxury</td>\n",
       "      <td>Compact</td>\n",
       "      <td>Convertible</td>\n",
       "      <td>28</td>\n",
       "      <td>18</td>\n",
       "      <td>3916</td>\n",
       "      <td>34500</td>\n",
       "    </tr>\n",
       "  </tbody>\n",
       "</table>\n",
       "</div>"
      ],
      "text/plain": [
       "  Make       Model  Year             Engine Fuel Type  Engine HP  \\\n",
       "0  BMW  1 Series M  2011  premium unleaded (required)      335.0   \n",
       "1  BMW    1 Series  2011  premium unleaded (required)      300.0   \n",
       "2  BMW    1 Series  2011  premium unleaded (required)      300.0   \n",
       "3  BMW    1 Series  2011  premium unleaded (required)      230.0   \n",
       "4  BMW    1 Series  2011  premium unleaded (required)      230.0   \n",
       "\n",
       "   Engine Cylinders Transmission Type     Driven_Wheels  Number of Doors  \\\n",
       "0               6.0            MANUAL  rear wheel drive              2.0   \n",
       "1               6.0            MANUAL  rear wheel drive              2.0   \n",
       "2               6.0            MANUAL  rear wheel drive              2.0   \n",
       "3               6.0            MANUAL  rear wheel drive              2.0   \n",
       "4               6.0            MANUAL  rear wheel drive              2.0   \n",
       "\n",
       "                         Market Category Vehicle Size Vehicle Style  \\\n",
       "0  Factory Tuner,Luxury,High-Performance      Compact         Coupe   \n",
       "1                     Luxury,Performance      Compact   Convertible   \n",
       "2                Luxury,High-Performance      Compact         Coupe   \n",
       "3                     Luxury,Performance      Compact         Coupe   \n",
       "4                                 Luxury      Compact   Convertible   \n",
       "\n",
       "   highway MPG  city mpg  Popularity   MSRP  \n",
       "0           26        19        3916  46135  \n",
       "1           28        19        3916  40650  \n",
       "2           28        20        3916  36350  \n",
       "3           28        18        3916  29450  \n",
       "4           28        18        3916  34500  "
      ]
     },
     "execution_count": 127,
     "metadata": {},
     "output_type": "execute_result"
    }
   ],
   "source": [
    "# printing first five enteries\n",
    "cars_data.head()"
   ]
  },
  {
   "cell_type": "markdown",
   "metadata": {},
   "source": [
    "### 1.2 Checking the types of data\n",
    "It is very important to check whether the data with which we are dealing either has null values or not, whether the data is categorical or whether duplicacy is present in data or not. Moreover, we also need to check whether the target variable MSRP or Price is stored as a string or not. If stored as a string then we need convert that string to the integer data only then we can plot the data via a graph. "
   ]
  },
  {
   "cell_type": "code",
   "execution_count": 128,
   "metadata": {},
   "outputs": [
    {
     "name": "stdout",
     "output_type": "stream",
     "text": [
      "<class 'pandas.core.frame.DataFrame'>\n",
      "RangeIndex: 11914 entries, 0 to 11913\n",
      "Data columns (total 16 columns):\n",
      "Make                 11914 non-null object\n",
      "Model                11914 non-null object\n",
      "Year                 11914 non-null int64\n",
      "Engine Fuel Type     11911 non-null object\n",
      "Engine HP            11845 non-null float64\n",
      "Engine Cylinders     11884 non-null float64\n",
      "Transmission Type    11914 non-null object\n",
      "Driven_Wheels        11914 non-null object\n",
      "Number of Doors      11908 non-null float64\n",
      "Market Category      8172 non-null object\n",
      "Vehicle Size         11914 non-null object\n",
      "Vehicle Style        11914 non-null object\n",
      "highway MPG          11914 non-null int64\n",
      "city mpg             11914 non-null int64\n",
      "Popularity           11914 non-null int64\n",
      "MSRP                 11914 non-null int64\n",
      "dtypes: float64(3), int64(5), object(8)\n",
      "memory usage: 1.5+ MB\n"
     ]
    }
   ],
   "source": [
    "cars_data.info()"
   ]
  },
  {
   "cell_type": "markdown",
   "metadata": {},
   "source": [
    "### 1.3 Getting Statistical Summary\n",
    "Descriptive statistics can give us great insight into the shape of each attribute."
   ]
  },
  {
   "cell_type": "code",
   "execution_count": 129,
   "metadata": {},
   "outputs": [
    {
     "data": {
      "text/html": [
       "<div>\n",
       "<style scoped>\n",
       "    .dataframe tbody tr th:only-of-type {\n",
       "        vertical-align: middle;\n",
       "    }\n",
       "\n",
       "    .dataframe tbody tr th {\n",
       "        vertical-align: top;\n",
       "    }\n",
       "\n",
       "    .dataframe thead th {\n",
       "        text-align: right;\n",
       "    }\n",
       "</style>\n",
       "<table border=\"1\" class=\"dataframe\">\n",
       "  <thead>\n",
       "    <tr style=\"text-align: right;\">\n",
       "      <th></th>\n",
       "      <th>Year</th>\n",
       "      <th>Engine HP</th>\n",
       "      <th>Engine Cylinders</th>\n",
       "      <th>Number of Doors</th>\n",
       "      <th>highway MPG</th>\n",
       "      <th>city mpg</th>\n",
       "      <th>Popularity</th>\n",
       "      <th>MSRP</th>\n",
       "    </tr>\n",
       "  </thead>\n",
       "  <tbody>\n",
       "    <tr>\n",
       "      <th>count</th>\n",
       "      <td>11914.000000</td>\n",
       "      <td>11845.00000</td>\n",
       "      <td>11884.000000</td>\n",
       "      <td>11908.000000</td>\n",
       "      <td>11914.000000</td>\n",
       "      <td>11914.000000</td>\n",
       "      <td>11914.000000</td>\n",
       "      <td>1.191400e+04</td>\n",
       "    </tr>\n",
       "    <tr>\n",
       "      <th>mean</th>\n",
       "      <td>2010.384338</td>\n",
       "      <td>249.38607</td>\n",
       "      <td>5.628829</td>\n",
       "      <td>3.436093</td>\n",
       "      <td>26.637485</td>\n",
       "      <td>19.733255</td>\n",
       "      <td>1554.911197</td>\n",
       "      <td>4.059474e+04</td>\n",
       "    </tr>\n",
       "    <tr>\n",
       "      <th>std</th>\n",
       "      <td>7.579740</td>\n",
       "      <td>109.19187</td>\n",
       "      <td>1.780559</td>\n",
       "      <td>0.881315</td>\n",
       "      <td>8.863001</td>\n",
       "      <td>8.987798</td>\n",
       "      <td>1441.855347</td>\n",
       "      <td>6.010910e+04</td>\n",
       "    </tr>\n",
       "    <tr>\n",
       "      <th>min</th>\n",
       "      <td>1990.000000</td>\n",
       "      <td>55.00000</td>\n",
       "      <td>0.000000</td>\n",
       "      <td>2.000000</td>\n",
       "      <td>12.000000</td>\n",
       "      <td>7.000000</td>\n",
       "      <td>2.000000</td>\n",
       "      <td>2.000000e+03</td>\n",
       "    </tr>\n",
       "    <tr>\n",
       "      <th>25%</th>\n",
       "      <td>2007.000000</td>\n",
       "      <td>170.00000</td>\n",
       "      <td>4.000000</td>\n",
       "      <td>2.000000</td>\n",
       "      <td>22.000000</td>\n",
       "      <td>16.000000</td>\n",
       "      <td>549.000000</td>\n",
       "      <td>2.100000e+04</td>\n",
       "    </tr>\n",
       "    <tr>\n",
       "      <th>50%</th>\n",
       "      <td>2015.000000</td>\n",
       "      <td>227.00000</td>\n",
       "      <td>6.000000</td>\n",
       "      <td>4.000000</td>\n",
       "      <td>26.000000</td>\n",
       "      <td>18.000000</td>\n",
       "      <td>1385.000000</td>\n",
       "      <td>2.999500e+04</td>\n",
       "    </tr>\n",
       "    <tr>\n",
       "      <th>75%</th>\n",
       "      <td>2016.000000</td>\n",
       "      <td>300.00000</td>\n",
       "      <td>6.000000</td>\n",
       "      <td>4.000000</td>\n",
       "      <td>30.000000</td>\n",
       "      <td>22.000000</td>\n",
       "      <td>2009.000000</td>\n",
       "      <td>4.223125e+04</td>\n",
       "    </tr>\n",
       "    <tr>\n",
       "      <th>max</th>\n",
       "      <td>2017.000000</td>\n",
       "      <td>1001.00000</td>\n",
       "      <td>16.000000</td>\n",
       "      <td>4.000000</td>\n",
       "      <td>354.000000</td>\n",
       "      <td>137.000000</td>\n",
       "      <td>5657.000000</td>\n",
       "      <td>2.065902e+06</td>\n",
       "    </tr>\n",
       "  </tbody>\n",
       "</table>\n",
       "</div>"
      ],
      "text/plain": [
       "               Year    Engine HP  Engine Cylinders  Number of Doors  \\\n",
       "count  11914.000000  11845.00000      11884.000000     11908.000000   \n",
       "mean    2010.384338    249.38607          5.628829         3.436093   \n",
       "std        7.579740    109.19187          1.780559         0.881315   \n",
       "min     1990.000000     55.00000          0.000000         2.000000   \n",
       "25%     2007.000000    170.00000          4.000000         2.000000   \n",
       "50%     2015.000000    227.00000          6.000000         4.000000   \n",
       "75%     2016.000000    300.00000          6.000000         4.000000   \n",
       "max     2017.000000   1001.00000         16.000000         4.000000   \n",
       "\n",
       "        highway MPG      city mpg    Popularity          MSRP  \n",
       "count  11914.000000  11914.000000  11914.000000  1.191400e+04  \n",
       "mean      26.637485     19.733255   1554.911197  4.059474e+04  \n",
       "std        8.863001      8.987798   1441.855347  6.010910e+04  \n",
       "min       12.000000      7.000000      2.000000  2.000000e+03  \n",
       "25%       22.000000     16.000000    549.000000  2.100000e+04  \n",
       "50%       26.000000     18.000000   1385.000000  2.999500e+04  \n",
       "75%       30.000000     22.000000   2009.000000  4.223125e+04  \n",
       "max      354.000000    137.000000   5657.000000  2.065902e+06  "
      ]
     },
     "execution_count": 129,
     "metadata": {},
     "output_type": "execute_result"
    }
   ],
   "source": [
    "# getting statistics related to car_data\n",
    "cars_data.describe()\n"
   ]
  },
  {
   "cell_type": "markdown",
   "metadata": {},
   "source": [
    "### 1.4 Checking Shape of dataset"
   ]
  },
  {
   "cell_type": "code",
   "execution_count": 130,
   "metadata": {},
   "outputs": [
    {
     "data": {
      "text/plain": [
       "(11914, 16)"
      ]
     },
     "execution_count": 130,
     "metadata": {},
     "output_type": "execute_result"
    }
   ],
   "source": [
    "cars_data.shape"
   ]
  },
  {
   "cell_type": "markdown",
   "metadata": {},
   "source": [
    "### 1.5 Checking NULL Values in dataset\n",
    "It is very important to check if any null values are there in the dataset and we will remove it in further steps"
   ]
  },
  {
   "cell_type": "code",
   "execution_count": 131,
   "metadata": {},
   "outputs": [
    {
     "data": {
      "text/plain": [
       "0"
      ]
     },
     "execution_count": 131,
     "metadata": {},
     "output_type": "execute_result"
    }
   ],
   "source": [
    "#Checking Null Values for column \"Make\"\n",
    "find_null = cars_data[\"Make\"].isnull().sum()\n",
    "find_null"
   ]
  },
  {
   "cell_type": "code",
   "execution_count": 132,
   "metadata": {},
   "outputs": [
    {
     "data": {
      "text/plain": [
       "0"
      ]
     },
     "execution_count": 132,
     "metadata": {},
     "output_type": "execute_result"
    }
   ],
   "source": [
    "#Checking Null Values for column \"Model\"\n",
    "find_null = cars_data[\"Model\"].isnull().sum()\n",
    "find_null"
   ]
  },
  {
   "cell_type": "code",
   "execution_count": 133,
   "metadata": {},
   "outputs": [
    {
     "data": {
      "text/plain": [
       "0"
      ]
     },
     "execution_count": 133,
     "metadata": {},
     "output_type": "execute_result"
    }
   ],
   "source": [
    "#Checking Null Values for column \"Year\"\n",
    "find_null = cars_data[\"Year\"].isnull().sum()\n",
    "find_null"
   ]
  },
  {
   "cell_type": "code",
   "execution_count": 134,
   "metadata": {},
   "outputs": [
    {
     "data": {
      "text/plain": [
       "3"
      ]
     },
     "execution_count": 134,
     "metadata": {},
     "output_type": "execute_result"
    }
   ],
   "source": [
    "#Checking Null Values for column \"Engine Fuel Type\"\n",
    "find_null = cars_data[\"Engine Fuel Type\"].isnull().sum()\n",
    "find_null"
   ]
  },
  {
   "cell_type": "code",
   "execution_count": 135,
   "metadata": {},
   "outputs": [
    {
     "data": {
      "text/plain": [
       "69"
      ]
     },
     "execution_count": 135,
     "metadata": {},
     "output_type": "execute_result"
    }
   ],
   "source": [
    "#Checking Null Values for column \"Engine HP\"\n",
    "find_null = cars_data[\"Engine HP\"].isnull().sum()\n",
    "find_null"
   ]
  },
  {
   "cell_type": "code",
   "execution_count": 136,
   "metadata": {},
   "outputs": [
    {
     "data": {
      "text/plain": [
       "30"
      ]
     },
     "execution_count": 136,
     "metadata": {},
     "output_type": "execute_result"
    }
   ],
   "source": [
    "#Checking Null Values for column \"Engine Cylinders\"\n",
    "find_null = cars_data[\"Engine Cylinders\"].isnull().sum()\n",
    "find_null"
   ]
  },
  {
   "cell_type": "code",
   "execution_count": 137,
   "metadata": {},
   "outputs": [
    {
     "data": {
      "text/plain": [
       "0"
      ]
     },
     "execution_count": 137,
     "metadata": {},
     "output_type": "execute_result"
    }
   ],
   "source": [
    "#Checking Null Values for column \"Transmission Type\"\n",
    "find_null = cars_data[\"Transmission Type\"].isnull().sum()\n",
    "find_null"
   ]
  },
  {
   "cell_type": "code",
   "execution_count": 138,
   "metadata": {},
   "outputs": [
    {
     "data": {
      "text/plain": [
       "0"
      ]
     },
     "execution_count": 138,
     "metadata": {},
     "output_type": "execute_result"
    }
   ],
   "source": [
    "#Checking Null Values for column \"Driven_Wheels\"\n",
    "find_null = cars_data[\"Driven_Wheels\"].isnull().sum()\n",
    "find_null"
   ]
  },
  {
   "cell_type": "code",
   "execution_count": 139,
   "metadata": {},
   "outputs": [
    {
     "data": {
      "text/plain": [
       "6"
      ]
     },
     "execution_count": 139,
     "metadata": {},
     "output_type": "execute_result"
    }
   ],
   "source": [
    "#Checking Null Values for column \"Number of Doors\"\n",
    "find_null = cars_data[\"Number of Doors\"].isnull().sum()\n",
    "find_null"
   ]
  },
  {
   "cell_type": "code",
   "execution_count": 140,
   "metadata": {},
   "outputs": [
    {
     "data": {
      "text/plain": [
       "3742"
      ]
     },
     "execution_count": 140,
     "metadata": {},
     "output_type": "execute_result"
    }
   ],
   "source": [
    "#Checking Null Values for column \"Market Category\"\n",
    "find_null = cars_data[\"Market Category\"].isnull().sum()\n",
    "find_null"
   ]
  },
  {
   "cell_type": "code",
   "execution_count": 141,
   "metadata": {},
   "outputs": [
    {
     "data": {
      "text/plain": [
       "0"
      ]
     },
     "execution_count": 141,
     "metadata": {},
     "output_type": "execute_result"
    }
   ],
   "source": [
    "#Checking Null Values for column \"Vehicle Size\"\n",
    "find_null = cars_data[\"Vehicle Size\"].isnull().sum()\n",
    "find_null"
   ]
  },
  {
   "cell_type": "code",
   "execution_count": 142,
   "metadata": {},
   "outputs": [
    {
     "data": {
      "text/plain": [
       "0"
      ]
     },
     "execution_count": 142,
     "metadata": {},
     "output_type": "execute_result"
    }
   ],
   "source": [
    "#Checking Null Values for column \"Vehicle Style\"\n",
    "find_null = cars_data[\"Vehicle Style\"].isnull().sum()\n",
    "find_null"
   ]
  },
  {
   "cell_type": "code",
   "execution_count": 143,
   "metadata": {},
   "outputs": [
    {
     "data": {
      "text/plain": [
       "0"
      ]
     },
     "execution_count": 143,
     "metadata": {},
     "output_type": "execute_result"
    }
   ],
   "source": [
    "#Checking Null Values for column \"highway MPG\"\n",
    "find_null = cars_data[\"highway MPG\"].isnull().sum()\n",
    "find_null"
   ]
  },
  {
   "cell_type": "code",
   "execution_count": 144,
   "metadata": {},
   "outputs": [
    {
     "data": {
      "text/plain": [
       "0"
      ]
     },
     "execution_count": 144,
     "metadata": {},
     "output_type": "execute_result"
    }
   ],
   "source": [
    "#Checking Null Values for column \"Popularity\"\n",
    "find_null = cars_data[\"Popularity\"].isnull().sum()\n",
    "find_null"
   ]
  },
  {
   "cell_type": "code",
   "execution_count": 145,
   "metadata": {},
   "outputs": [
    {
     "data": {
      "text/plain": [
       "0"
      ]
     },
     "execution_count": 145,
     "metadata": {},
     "output_type": "execute_result"
    }
   ],
   "source": [
    "#Checking Null Values for column \"Transmission Type\"\n",
    "find_null = cars_data[\"Transmission Type\"].isnull().sum()\n",
    "find_null"
   ]
  },
  {
   "cell_type": "code",
   "execution_count": 146,
   "metadata": {},
   "outputs": [
    {
     "data": {
      "text/plain": [
       "0"
      ]
     },
     "execution_count": 146,
     "metadata": {},
     "output_type": "execute_result"
    }
   ],
   "source": [
    "#Checking Null Values for column \"MSRP\"\n",
    "find_null = cars_data[\"MSRP\"].isnull().sum()\n",
    "find_null"
   ]
  },
  {
   "cell_type": "markdown",
   "metadata": {},
   "source": [
    "## 2. Dropping irrelevant columns\n",
    "This is a very important step since  there would be columns that we would never use and in such cases dropping is useful. Now dropping Market Category is useful since it has more than 40% data missing "
   ]
  },
  {
   "cell_type": "code",
   "execution_count": 147,
   "metadata": {},
   "outputs": [
    {
     "data": {
      "text/html": [
       "<div>\n",
       "<style scoped>\n",
       "    .dataframe tbody tr th:only-of-type {\n",
       "        vertical-align: middle;\n",
       "    }\n",
       "\n",
       "    .dataframe tbody tr th {\n",
       "        vertical-align: top;\n",
       "    }\n",
       "\n",
       "    .dataframe thead th {\n",
       "        text-align: right;\n",
       "    }\n",
       "</style>\n",
       "<table border=\"1\" class=\"dataframe\">\n",
       "  <thead>\n",
       "    <tr style=\"text-align: right;\">\n",
       "      <th></th>\n",
       "      <th>Make</th>\n",
       "      <th>Model</th>\n",
       "      <th>Year</th>\n",
       "      <th>Engine Fuel Type</th>\n",
       "      <th>Engine HP</th>\n",
       "      <th>Engine Cylinders</th>\n",
       "      <th>Transmission Type</th>\n",
       "      <th>Driven_Wheels</th>\n",
       "      <th>Number of Doors</th>\n",
       "      <th>Vehicle Size</th>\n",
       "      <th>Vehicle Style</th>\n",
       "      <th>highway MPG</th>\n",
       "      <th>city mpg</th>\n",
       "      <th>Popularity</th>\n",
       "      <th>MSRP</th>\n",
       "    </tr>\n",
       "  </thead>\n",
       "  <tbody>\n",
       "    <tr>\n",
       "      <th>0</th>\n",
       "      <td>BMW</td>\n",
       "      <td>1 Series M</td>\n",
       "      <td>2011</td>\n",
       "      <td>premium unleaded (required)</td>\n",
       "      <td>335.0</td>\n",
       "      <td>6.0</td>\n",
       "      <td>MANUAL</td>\n",
       "      <td>rear wheel drive</td>\n",
       "      <td>2.0</td>\n",
       "      <td>Compact</td>\n",
       "      <td>Coupe</td>\n",
       "      <td>26</td>\n",
       "      <td>19</td>\n",
       "      <td>3916</td>\n",
       "      <td>46135</td>\n",
       "    </tr>\n",
       "    <tr>\n",
       "      <th>1</th>\n",
       "      <td>BMW</td>\n",
       "      <td>1 Series</td>\n",
       "      <td>2011</td>\n",
       "      <td>premium unleaded (required)</td>\n",
       "      <td>300.0</td>\n",
       "      <td>6.0</td>\n",
       "      <td>MANUAL</td>\n",
       "      <td>rear wheel drive</td>\n",
       "      <td>2.0</td>\n",
       "      <td>Compact</td>\n",
       "      <td>Convertible</td>\n",
       "      <td>28</td>\n",
       "      <td>19</td>\n",
       "      <td>3916</td>\n",
       "      <td>40650</td>\n",
       "    </tr>\n",
       "    <tr>\n",
       "      <th>2</th>\n",
       "      <td>BMW</td>\n",
       "      <td>1 Series</td>\n",
       "      <td>2011</td>\n",
       "      <td>premium unleaded (required)</td>\n",
       "      <td>300.0</td>\n",
       "      <td>6.0</td>\n",
       "      <td>MANUAL</td>\n",
       "      <td>rear wheel drive</td>\n",
       "      <td>2.0</td>\n",
       "      <td>Compact</td>\n",
       "      <td>Coupe</td>\n",
       "      <td>28</td>\n",
       "      <td>20</td>\n",
       "      <td>3916</td>\n",
       "      <td>36350</td>\n",
       "    </tr>\n",
       "    <tr>\n",
       "      <th>3</th>\n",
       "      <td>BMW</td>\n",
       "      <td>1 Series</td>\n",
       "      <td>2011</td>\n",
       "      <td>premium unleaded (required)</td>\n",
       "      <td>230.0</td>\n",
       "      <td>6.0</td>\n",
       "      <td>MANUAL</td>\n",
       "      <td>rear wheel drive</td>\n",
       "      <td>2.0</td>\n",
       "      <td>Compact</td>\n",
       "      <td>Coupe</td>\n",
       "      <td>28</td>\n",
       "      <td>18</td>\n",
       "      <td>3916</td>\n",
       "      <td>29450</td>\n",
       "    </tr>\n",
       "    <tr>\n",
       "      <th>4</th>\n",
       "      <td>BMW</td>\n",
       "      <td>1 Series</td>\n",
       "      <td>2011</td>\n",
       "      <td>premium unleaded (required)</td>\n",
       "      <td>230.0</td>\n",
       "      <td>6.0</td>\n",
       "      <td>MANUAL</td>\n",
       "      <td>rear wheel drive</td>\n",
       "      <td>2.0</td>\n",
       "      <td>Compact</td>\n",
       "      <td>Convertible</td>\n",
       "      <td>28</td>\n",
       "      <td>18</td>\n",
       "      <td>3916</td>\n",
       "      <td>34500</td>\n",
       "    </tr>\n",
       "  </tbody>\n",
       "</table>\n",
       "</div>"
      ],
      "text/plain": [
       "  Make       Model  Year             Engine Fuel Type  Engine HP  \\\n",
       "0  BMW  1 Series M  2011  premium unleaded (required)      335.0   \n",
       "1  BMW    1 Series  2011  premium unleaded (required)      300.0   \n",
       "2  BMW    1 Series  2011  premium unleaded (required)      300.0   \n",
       "3  BMW    1 Series  2011  premium unleaded (required)      230.0   \n",
       "4  BMW    1 Series  2011  premium unleaded (required)      230.0   \n",
       "\n",
       "   Engine Cylinders Transmission Type     Driven_Wheels  Number of Doors  \\\n",
       "0               6.0            MANUAL  rear wheel drive              2.0   \n",
       "1               6.0            MANUAL  rear wheel drive              2.0   \n",
       "2               6.0            MANUAL  rear wheel drive              2.0   \n",
       "3               6.0            MANUAL  rear wheel drive              2.0   \n",
       "4               6.0            MANUAL  rear wheel drive              2.0   \n",
       "\n",
       "  Vehicle Size Vehicle Style  highway MPG  city mpg  Popularity   MSRP  \n",
       "0      Compact         Coupe           26        19        3916  46135  \n",
       "1      Compact   Convertible           28        19        3916  40650  \n",
       "2      Compact         Coupe           28        20        3916  36350  \n",
       "3      Compact         Coupe           28        18        3916  29450  \n",
       "4      Compact   Convertible           28        18        3916  34500  "
      ]
     },
     "execution_count": 147,
     "metadata": {},
     "output_type": "execute_result"
    }
   ],
   "source": [
    "# dropping Market Category since it has more than 40% data missing so we have dropped it.\n",
    "cars_data=cars_data.drop(['Market Category'],axis=1)\n",
    "cars_data.head()"
   ]
  },
  {
   "cell_type": "markdown",
   "metadata": {},
   "source": [
    "## 3. Renaming the columns"
   ]
  },
  {
   "cell_type": "code",
   "execution_count": 148,
   "metadata": {},
   "outputs": [],
   "source": [
    "# Renaming the columns and storing the data in c_data\n",
    "c_data=cars_data.rename(columns={\"Engine HP\": \"HP\", \"Engine Cylinders\": \"Cylinders\", \"Transmission Type\": \"Transmission\", \"Driven_Wheels\": \"Drive Mode\", \"highway MPG\": \"MPG-H\", \"city mpg\": \"MPG-C\", \"MSRP\": \"Price\"})"
   ]
  },
  {
   "cell_type": "code",
   "execution_count": 149,
   "metadata": {},
   "outputs": [
    {
     "data": {
      "text/html": [
       "<div>\n",
       "<style scoped>\n",
       "    .dataframe tbody tr th:only-of-type {\n",
       "        vertical-align: middle;\n",
       "    }\n",
       "\n",
       "    .dataframe tbody tr th {\n",
       "        vertical-align: top;\n",
       "    }\n",
       "\n",
       "    .dataframe thead th {\n",
       "        text-align: right;\n",
       "    }\n",
       "</style>\n",
       "<table border=\"1\" class=\"dataframe\">\n",
       "  <thead>\n",
       "    <tr style=\"text-align: right;\">\n",
       "      <th></th>\n",
       "      <th>Make</th>\n",
       "      <th>Model</th>\n",
       "      <th>Year</th>\n",
       "      <th>Engine Fuel Type</th>\n",
       "      <th>HP</th>\n",
       "      <th>Cylinders</th>\n",
       "      <th>Transmission</th>\n",
       "      <th>Drive Mode</th>\n",
       "      <th>Number of Doors</th>\n",
       "      <th>Vehicle Size</th>\n",
       "      <th>Vehicle Style</th>\n",
       "      <th>MPG-H</th>\n",
       "      <th>MPG-C</th>\n",
       "      <th>Popularity</th>\n",
       "      <th>Price</th>\n",
       "    </tr>\n",
       "  </thead>\n",
       "  <tbody>\n",
       "    <tr>\n",
       "      <th>0</th>\n",
       "      <td>BMW</td>\n",
       "      <td>1 Series M</td>\n",
       "      <td>2011</td>\n",
       "      <td>premium unleaded (required)</td>\n",
       "      <td>335.0</td>\n",
       "      <td>6.0</td>\n",
       "      <td>MANUAL</td>\n",
       "      <td>rear wheel drive</td>\n",
       "      <td>2.0</td>\n",
       "      <td>Compact</td>\n",
       "      <td>Coupe</td>\n",
       "      <td>26</td>\n",
       "      <td>19</td>\n",
       "      <td>3916</td>\n",
       "      <td>46135</td>\n",
       "    </tr>\n",
       "    <tr>\n",
       "      <th>1</th>\n",
       "      <td>BMW</td>\n",
       "      <td>1 Series</td>\n",
       "      <td>2011</td>\n",
       "      <td>premium unleaded (required)</td>\n",
       "      <td>300.0</td>\n",
       "      <td>6.0</td>\n",
       "      <td>MANUAL</td>\n",
       "      <td>rear wheel drive</td>\n",
       "      <td>2.0</td>\n",
       "      <td>Compact</td>\n",
       "      <td>Convertible</td>\n",
       "      <td>28</td>\n",
       "      <td>19</td>\n",
       "      <td>3916</td>\n",
       "      <td>40650</td>\n",
       "    </tr>\n",
       "    <tr>\n",
       "      <th>2</th>\n",
       "      <td>BMW</td>\n",
       "      <td>1 Series</td>\n",
       "      <td>2011</td>\n",
       "      <td>premium unleaded (required)</td>\n",
       "      <td>300.0</td>\n",
       "      <td>6.0</td>\n",
       "      <td>MANUAL</td>\n",
       "      <td>rear wheel drive</td>\n",
       "      <td>2.0</td>\n",
       "      <td>Compact</td>\n",
       "      <td>Coupe</td>\n",
       "      <td>28</td>\n",
       "      <td>20</td>\n",
       "      <td>3916</td>\n",
       "      <td>36350</td>\n",
       "    </tr>\n",
       "  </tbody>\n",
       "</table>\n",
       "</div>"
      ],
      "text/plain": [
       "  Make       Model  Year             Engine Fuel Type     HP  Cylinders  \\\n",
       "0  BMW  1 Series M  2011  premium unleaded (required)  335.0        6.0   \n",
       "1  BMW    1 Series  2011  premium unleaded (required)  300.0        6.0   \n",
       "2  BMW    1 Series  2011  premium unleaded (required)  300.0        6.0   \n",
       "\n",
       "  Transmission        Drive Mode  Number of Doors Vehicle Size Vehicle Style  \\\n",
       "0       MANUAL  rear wheel drive              2.0      Compact         Coupe   \n",
       "1       MANUAL  rear wheel drive              2.0      Compact   Convertible   \n",
       "2       MANUAL  rear wheel drive              2.0      Compact         Coupe   \n",
       "\n",
       "   MPG-H  MPG-C  Popularity  Price  \n",
       "0     26     19        3916  46135  \n",
       "1     28     19        3916  40650  \n",
       "2     28     20        3916  36350  "
      ]
     },
     "execution_count": 149,
     "metadata": {},
     "output_type": "execute_result"
    }
   ],
   "source": [
    "c_data.head(3)"
   ]
  },
  {
   "cell_type": "code",
   "execution_count": 150,
   "metadata": {},
   "outputs": [],
   "source": [
    "mcp_data=c_data"
   ]
  },
  {
   "cell_type": "code",
   "execution_count": 151,
   "metadata": {},
   "outputs": [
    {
     "data": {
      "text/html": [
       "<div>\n",
       "<style scoped>\n",
       "    .dataframe tbody tr th:only-of-type {\n",
       "        vertical-align: middle;\n",
       "    }\n",
       "\n",
       "    .dataframe tbody tr th {\n",
       "        vertical-align: top;\n",
       "    }\n",
       "\n",
       "    .dataframe thead th {\n",
       "        text-align: right;\n",
       "    }\n",
       "</style>\n",
       "<table border=\"1\" class=\"dataframe\">\n",
       "  <thead>\n",
       "    <tr style=\"text-align: right;\">\n",
       "      <th></th>\n",
       "      <th>Make</th>\n",
       "      <th>Model</th>\n",
       "      <th>Year</th>\n",
       "      <th>Engine Fuel Type</th>\n",
       "      <th>HP</th>\n",
       "      <th>Cylinders</th>\n",
       "      <th>Transmission</th>\n",
       "      <th>Drive Mode</th>\n",
       "      <th>Number of Doors</th>\n",
       "      <th>Vehicle Size</th>\n",
       "      <th>Vehicle Style</th>\n",
       "      <th>MPG-H</th>\n",
       "      <th>MPG-C</th>\n",
       "      <th>Popularity</th>\n",
       "      <th>Price</th>\n",
       "    </tr>\n",
       "  </thead>\n",
       "  <tbody>\n",
       "    <tr>\n",
       "      <th>0</th>\n",
       "      <td>BMW</td>\n",
       "      <td>1 Series M</td>\n",
       "      <td>2011</td>\n",
       "      <td>premium unleaded (required)</td>\n",
       "      <td>335.0</td>\n",
       "      <td>6.0</td>\n",
       "      <td>MANUAL</td>\n",
       "      <td>rear wheel drive</td>\n",
       "      <td>2.0</td>\n",
       "      <td>Compact</td>\n",
       "      <td>Coupe</td>\n",
       "      <td>26</td>\n",
       "      <td>19</td>\n",
       "      <td>3916</td>\n",
       "      <td>46135</td>\n",
       "    </tr>\n",
       "    <tr>\n",
       "      <th>1</th>\n",
       "      <td>BMW</td>\n",
       "      <td>1 Series</td>\n",
       "      <td>2011</td>\n",
       "      <td>premium unleaded (required)</td>\n",
       "      <td>300.0</td>\n",
       "      <td>6.0</td>\n",
       "      <td>MANUAL</td>\n",
       "      <td>rear wheel drive</td>\n",
       "      <td>2.0</td>\n",
       "      <td>Compact</td>\n",
       "      <td>Convertible</td>\n",
       "      <td>28</td>\n",
       "      <td>19</td>\n",
       "      <td>3916</td>\n",
       "      <td>40650</td>\n",
       "    </tr>\n",
       "  </tbody>\n",
       "</table>\n",
       "</div>"
      ],
      "text/plain": [
       "  Make       Model  Year             Engine Fuel Type     HP  Cylinders  \\\n",
       "0  BMW  1 Series M  2011  premium unleaded (required)  335.0        6.0   \n",
       "1  BMW    1 Series  2011  premium unleaded (required)  300.0        6.0   \n",
       "\n",
       "  Transmission        Drive Mode  Number of Doors Vehicle Size Vehicle Style  \\\n",
       "0       MANUAL  rear wheel drive              2.0      Compact         Coupe   \n",
       "1       MANUAL  rear wheel drive              2.0      Compact   Convertible   \n",
       "\n",
       "   MPG-H  MPG-C  Popularity  Price  \n",
       "0     26     19        3916  46135  \n",
       "1     28     19        3916  40650  "
      ]
     },
     "execution_count": 151,
     "metadata": {},
     "output_type": "execute_result"
    }
   ],
   "source": [
    "mcp_data.head(2)"
   ]
  },
  {
   "cell_type": "markdown",
   "metadata": {},
   "source": [
    "## 4. Dropping the duplicate rows\n",
    "It is very important to remove duplicate values from data set."
   ]
  },
  {
   "cell_type": "code",
   "execution_count": 152,
   "metadata": {},
   "outputs": [
    {
     "name": "stdout",
     "output_type": "stream",
     "text": [
      "('number of duplicate rows: ', (720, 15))\n"
     ]
    }
   ],
   "source": [
    "duplicate_rows = mcp_data[mcp_data.duplicated()]\n",
    "print(\"number of duplicate rows: \", duplicate_rows.shape)"
   ]
  },
  {
   "cell_type": "code",
   "execution_count": 153,
   "metadata": {},
   "outputs": [],
   "source": [
    "# removing duplicate values\n",
    "mcp_data=mcp_data.drop_duplicates()"
   ]
  },
  {
   "cell_type": "code",
   "execution_count": 154,
   "metadata": {},
   "outputs": [
    {
     "data": {
      "text/html": [
       "<div>\n",
       "<style scoped>\n",
       "    .dataframe tbody tr th:only-of-type {\n",
       "        vertical-align: middle;\n",
       "    }\n",
       "\n",
       "    .dataframe tbody tr th {\n",
       "        vertical-align: top;\n",
       "    }\n",
       "\n",
       "    .dataframe thead th {\n",
       "        text-align: right;\n",
       "    }\n",
       "</style>\n",
       "<table border=\"1\" class=\"dataframe\">\n",
       "  <thead>\n",
       "    <tr style=\"text-align: right;\">\n",
       "      <th></th>\n",
       "      <th>Make</th>\n",
       "      <th>Model</th>\n",
       "      <th>Year</th>\n",
       "      <th>Engine Fuel Type</th>\n",
       "      <th>HP</th>\n",
       "      <th>Cylinders</th>\n",
       "      <th>Transmission</th>\n",
       "      <th>Drive Mode</th>\n",
       "      <th>Number of Doors</th>\n",
       "      <th>Vehicle Size</th>\n",
       "      <th>Vehicle Style</th>\n",
       "      <th>MPG-H</th>\n",
       "      <th>MPG-C</th>\n",
       "      <th>Popularity</th>\n",
       "      <th>Price</th>\n",
       "    </tr>\n",
       "  </thead>\n",
       "  <tbody>\n",
       "    <tr>\n",
       "      <th>0</th>\n",
       "      <td>BMW</td>\n",
       "      <td>1 Series M</td>\n",
       "      <td>2011</td>\n",
       "      <td>premium unleaded (required)</td>\n",
       "      <td>335.0</td>\n",
       "      <td>6.0</td>\n",
       "      <td>MANUAL</td>\n",
       "      <td>rear wheel drive</td>\n",
       "      <td>2.0</td>\n",
       "      <td>Compact</td>\n",
       "      <td>Coupe</td>\n",
       "      <td>26</td>\n",
       "      <td>19</td>\n",
       "      <td>3916</td>\n",
       "      <td>46135</td>\n",
       "    </tr>\n",
       "    <tr>\n",
       "      <th>1</th>\n",
       "      <td>BMW</td>\n",
       "      <td>1 Series</td>\n",
       "      <td>2011</td>\n",
       "      <td>premium unleaded (required)</td>\n",
       "      <td>300.0</td>\n",
       "      <td>6.0</td>\n",
       "      <td>MANUAL</td>\n",
       "      <td>rear wheel drive</td>\n",
       "      <td>2.0</td>\n",
       "      <td>Compact</td>\n",
       "      <td>Convertible</td>\n",
       "      <td>28</td>\n",
       "      <td>19</td>\n",
       "      <td>3916</td>\n",
       "      <td>40650</td>\n",
       "    </tr>\n",
       "    <tr>\n",
       "      <th>2</th>\n",
       "      <td>BMW</td>\n",
       "      <td>1 Series</td>\n",
       "      <td>2011</td>\n",
       "      <td>premium unleaded (required)</td>\n",
       "      <td>300.0</td>\n",
       "      <td>6.0</td>\n",
       "      <td>MANUAL</td>\n",
       "      <td>rear wheel drive</td>\n",
       "      <td>2.0</td>\n",
       "      <td>Compact</td>\n",
       "      <td>Coupe</td>\n",
       "      <td>28</td>\n",
       "      <td>20</td>\n",
       "      <td>3916</td>\n",
       "      <td>36350</td>\n",
       "    </tr>\n",
       "    <tr>\n",
       "      <th>3</th>\n",
       "      <td>BMW</td>\n",
       "      <td>1 Series</td>\n",
       "      <td>2011</td>\n",
       "      <td>premium unleaded (required)</td>\n",
       "      <td>230.0</td>\n",
       "      <td>6.0</td>\n",
       "      <td>MANUAL</td>\n",
       "      <td>rear wheel drive</td>\n",
       "      <td>2.0</td>\n",
       "      <td>Compact</td>\n",
       "      <td>Coupe</td>\n",
       "      <td>28</td>\n",
       "      <td>18</td>\n",
       "      <td>3916</td>\n",
       "      <td>29450</td>\n",
       "    </tr>\n",
       "    <tr>\n",
       "      <th>4</th>\n",
       "      <td>BMW</td>\n",
       "      <td>1 Series</td>\n",
       "      <td>2011</td>\n",
       "      <td>premium unleaded (required)</td>\n",
       "      <td>230.0</td>\n",
       "      <td>6.0</td>\n",
       "      <td>MANUAL</td>\n",
       "      <td>rear wheel drive</td>\n",
       "      <td>2.0</td>\n",
       "      <td>Compact</td>\n",
       "      <td>Convertible</td>\n",
       "      <td>28</td>\n",
       "      <td>18</td>\n",
       "      <td>3916</td>\n",
       "      <td>34500</td>\n",
       "    </tr>\n",
       "    <tr>\n",
       "      <th>5</th>\n",
       "      <td>BMW</td>\n",
       "      <td>1 Series</td>\n",
       "      <td>2012</td>\n",
       "      <td>premium unleaded (required)</td>\n",
       "      <td>230.0</td>\n",
       "      <td>6.0</td>\n",
       "      <td>MANUAL</td>\n",
       "      <td>rear wheel drive</td>\n",
       "      <td>2.0</td>\n",
       "      <td>Compact</td>\n",
       "      <td>Coupe</td>\n",
       "      <td>28</td>\n",
       "      <td>18</td>\n",
       "      <td>3916</td>\n",
       "      <td>31200</td>\n",
       "    </tr>\n",
       "    <tr>\n",
       "      <th>6</th>\n",
       "      <td>BMW</td>\n",
       "      <td>1 Series</td>\n",
       "      <td>2012</td>\n",
       "      <td>premium unleaded (required)</td>\n",
       "      <td>300.0</td>\n",
       "      <td>6.0</td>\n",
       "      <td>MANUAL</td>\n",
       "      <td>rear wheel drive</td>\n",
       "      <td>2.0</td>\n",
       "      <td>Compact</td>\n",
       "      <td>Convertible</td>\n",
       "      <td>26</td>\n",
       "      <td>17</td>\n",
       "      <td>3916</td>\n",
       "      <td>44100</td>\n",
       "    </tr>\n",
       "    <tr>\n",
       "      <th>7</th>\n",
       "      <td>BMW</td>\n",
       "      <td>1 Series</td>\n",
       "      <td>2012</td>\n",
       "      <td>premium unleaded (required)</td>\n",
       "      <td>300.0</td>\n",
       "      <td>6.0</td>\n",
       "      <td>MANUAL</td>\n",
       "      <td>rear wheel drive</td>\n",
       "      <td>2.0</td>\n",
       "      <td>Compact</td>\n",
       "      <td>Coupe</td>\n",
       "      <td>28</td>\n",
       "      <td>20</td>\n",
       "      <td>3916</td>\n",
       "      <td>39300</td>\n",
       "    </tr>\n",
       "    <tr>\n",
       "      <th>8</th>\n",
       "      <td>BMW</td>\n",
       "      <td>1 Series</td>\n",
       "      <td>2012</td>\n",
       "      <td>premium unleaded (required)</td>\n",
       "      <td>230.0</td>\n",
       "      <td>6.0</td>\n",
       "      <td>MANUAL</td>\n",
       "      <td>rear wheel drive</td>\n",
       "      <td>2.0</td>\n",
       "      <td>Compact</td>\n",
       "      <td>Convertible</td>\n",
       "      <td>28</td>\n",
       "      <td>18</td>\n",
       "      <td>3916</td>\n",
       "      <td>36900</td>\n",
       "    </tr>\n",
       "    <tr>\n",
       "      <th>9</th>\n",
       "      <td>BMW</td>\n",
       "      <td>1 Series</td>\n",
       "      <td>2013</td>\n",
       "      <td>premium unleaded (required)</td>\n",
       "      <td>230.0</td>\n",
       "      <td>6.0</td>\n",
       "      <td>MANUAL</td>\n",
       "      <td>rear wheel drive</td>\n",
       "      <td>2.0</td>\n",
       "      <td>Compact</td>\n",
       "      <td>Convertible</td>\n",
       "      <td>27</td>\n",
       "      <td>18</td>\n",
       "      <td>3916</td>\n",
       "      <td>37200</td>\n",
       "    </tr>\n",
       "    <tr>\n",
       "      <th>10</th>\n",
       "      <td>BMW</td>\n",
       "      <td>1 Series</td>\n",
       "      <td>2013</td>\n",
       "      <td>premium unleaded (required)</td>\n",
       "      <td>300.0</td>\n",
       "      <td>6.0</td>\n",
       "      <td>MANUAL</td>\n",
       "      <td>rear wheel drive</td>\n",
       "      <td>2.0</td>\n",
       "      <td>Compact</td>\n",
       "      <td>Coupe</td>\n",
       "      <td>28</td>\n",
       "      <td>20</td>\n",
       "      <td>3916</td>\n",
       "      <td>39600</td>\n",
       "    </tr>\n",
       "    <tr>\n",
       "      <th>11</th>\n",
       "      <td>BMW</td>\n",
       "      <td>1 Series</td>\n",
       "      <td>2013</td>\n",
       "      <td>premium unleaded (required)</td>\n",
       "      <td>230.0</td>\n",
       "      <td>6.0</td>\n",
       "      <td>MANUAL</td>\n",
       "      <td>rear wheel drive</td>\n",
       "      <td>2.0</td>\n",
       "      <td>Compact</td>\n",
       "      <td>Coupe</td>\n",
       "      <td>28</td>\n",
       "      <td>19</td>\n",
       "      <td>3916</td>\n",
       "      <td>31500</td>\n",
       "    </tr>\n",
       "    <tr>\n",
       "      <th>12</th>\n",
       "      <td>BMW</td>\n",
       "      <td>1 Series</td>\n",
       "      <td>2013</td>\n",
       "      <td>premium unleaded (required)</td>\n",
       "      <td>300.0</td>\n",
       "      <td>6.0</td>\n",
       "      <td>MANUAL</td>\n",
       "      <td>rear wheel drive</td>\n",
       "      <td>2.0</td>\n",
       "      <td>Compact</td>\n",
       "      <td>Convertible</td>\n",
       "      <td>28</td>\n",
       "      <td>19</td>\n",
       "      <td>3916</td>\n",
       "      <td>44400</td>\n",
       "    </tr>\n",
       "    <tr>\n",
       "      <th>13</th>\n",
       "      <td>BMW</td>\n",
       "      <td>1 Series</td>\n",
       "      <td>2013</td>\n",
       "      <td>premium unleaded (required)</td>\n",
       "      <td>230.0</td>\n",
       "      <td>6.0</td>\n",
       "      <td>MANUAL</td>\n",
       "      <td>rear wheel drive</td>\n",
       "      <td>2.0</td>\n",
       "      <td>Compact</td>\n",
       "      <td>Convertible</td>\n",
       "      <td>28</td>\n",
       "      <td>19</td>\n",
       "      <td>3916</td>\n",
       "      <td>37200</td>\n",
       "    </tr>\n",
       "    <tr>\n",
       "      <th>15</th>\n",
       "      <td>BMW</td>\n",
       "      <td>1 Series</td>\n",
       "      <td>2013</td>\n",
       "      <td>premium unleaded (required)</td>\n",
       "      <td>320.0</td>\n",
       "      <td>6.0</td>\n",
       "      <td>MANUAL</td>\n",
       "      <td>rear wheel drive</td>\n",
       "      <td>2.0</td>\n",
       "      <td>Compact</td>\n",
       "      <td>Convertible</td>\n",
       "      <td>25</td>\n",
       "      <td>18</td>\n",
       "      <td>3916</td>\n",
       "      <td>48250</td>\n",
       "    </tr>\n",
       "    <tr>\n",
       "      <th>16</th>\n",
       "      <td>BMW</td>\n",
       "      <td>1 Series</td>\n",
       "      <td>2013</td>\n",
       "      <td>premium unleaded (required)</td>\n",
       "      <td>320.0</td>\n",
       "      <td>6.0</td>\n",
       "      <td>MANUAL</td>\n",
       "      <td>rear wheel drive</td>\n",
       "      <td>2.0</td>\n",
       "      <td>Compact</td>\n",
       "      <td>Coupe</td>\n",
       "      <td>28</td>\n",
       "      <td>20</td>\n",
       "      <td>3916</td>\n",
       "      <td>43550</td>\n",
       "    </tr>\n",
       "    <tr>\n",
       "      <th>17</th>\n",
       "      <td>Audi</td>\n",
       "      <td>100</td>\n",
       "      <td>1992</td>\n",
       "      <td>regular unleaded</td>\n",
       "      <td>172.0</td>\n",
       "      <td>6.0</td>\n",
       "      <td>MANUAL</td>\n",
       "      <td>front wheel drive</td>\n",
       "      <td>4.0</td>\n",
       "      <td>Midsize</td>\n",
       "      <td>Sedan</td>\n",
       "      <td>24</td>\n",
       "      <td>17</td>\n",
       "      <td>3105</td>\n",
       "      <td>2000</td>\n",
       "    </tr>\n",
       "    <tr>\n",
       "      <th>19</th>\n",
       "      <td>Audi</td>\n",
       "      <td>100</td>\n",
       "      <td>1992</td>\n",
       "      <td>regular unleaded</td>\n",
       "      <td>172.0</td>\n",
       "      <td>6.0</td>\n",
       "      <td>AUTOMATIC</td>\n",
       "      <td>all wheel drive</td>\n",
       "      <td>4.0</td>\n",
       "      <td>Midsize</td>\n",
       "      <td>Wagon</td>\n",
       "      <td>20</td>\n",
       "      <td>16</td>\n",
       "      <td>3105</td>\n",
       "      <td>2000</td>\n",
       "    </tr>\n",
       "    <tr>\n",
       "      <th>21</th>\n",
       "      <td>Audi</td>\n",
       "      <td>100</td>\n",
       "      <td>1992</td>\n",
       "      <td>regular unleaded</td>\n",
       "      <td>172.0</td>\n",
       "      <td>6.0</td>\n",
       "      <td>MANUAL</td>\n",
       "      <td>all wheel drive</td>\n",
       "      <td>4.0</td>\n",
       "      <td>Midsize</td>\n",
       "      <td>Sedan</td>\n",
       "      <td>21</td>\n",
       "      <td>16</td>\n",
       "      <td>3105</td>\n",
       "      <td>2000</td>\n",
       "    </tr>\n",
       "    <tr>\n",
       "      <th>22</th>\n",
       "      <td>Audi</td>\n",
       "      <td>100</td>\n",
       "      <td>1993</td>\n",
       "      <td>regular unleaded</td>\n",
       "      <td>172.0</td>\n",
       "      <td>6.0</td>\n",
       "      <td>MANUAL</td>\n",
       "      <td>front wheel drive</td>\n",
       "      <td>4.0</td>\n",
       "      <td>Midsize</td>\n",
       "      <td>Sedan</td>\n",
       "      <td>24</td>\n",
       "      <td>17</td>\n",
       "      <td>3105</td>\n",
       "      <td>2000</td>\n",
       "    </tr>\n",
       "    <tr>\n",
       "      <th>23</th>\n",
       "      <td>Audi</td>\n",
       "      <td>100</td>\n",
       "      <td>1993</td>\n",
       "      <td>regular unleaded</td>\n",
       "      <td>172.0</td>\n",
       "      <td>6.0</td>\n",
       "      <td>AUTOMATIC</td>\n",
       "      <td>all wheel drive</td>\n",
       "      <td>4.0</td>\n",
       "      <td>Midsize</td>\n",
       "      <td>Wagon</td>\n",
       "      <td>20</td>\n",
       "      <td>16</td>\n",
       "      <td>3105</td>\n",
       "      <td>2000</td>\n",
       "    </tr>\n",
       "    <tr>\n",
       "      <th>26</th>\n",
       "      <td>Audi</td>\n",
       "      <td>100</td>\n",
       "      <td>1993</td>\n",
       "      <td>regular unleaded</td>\n",
       "      <td>172.0</td>\n",
       "      <td>6.0</td>\n",
       "      <td>MANUAL</td>\n",
       "      <td>all wheel drive</td>\n",
       "      <td>4.0</td>\n",
       "      <td>Midsize</td>\n",
       "      <td>Sedan</td>\n",
       "      <td>21</td>\n",
       "      <td>16</td>\n",
       "      <td>3105</td>\n",
       "      <td>2000</td>\n",
       "    </tr>\n",
       "  </tbody>\n",
       "</table>\n",
       "</div>"
      ],
      "text/plain": [
       "    Make       Model  Year             Engine Fuel Type     HP  Cylinders  \\\n",
       "0    BMW  1 Series M  2011  premium unleaded (required)  335.0        6.0   \n",
       "1    BMW    1 Series  2011  premium unleaded (required)  300.0        6.0   \n",
       "2    BMW    1 Series  2011  premium unleaded (required)  300.0        6.0   \n",
       "3    BMW    1 Series  2011  premium unleaded (required)  230.0        6.0   \n",
       "4    BMW    1 Series  2011  premium unleaded (required)  230.0        6.0   \n",
       "5    BMW    1 Series  2012  premium unleaded (required)  230.0        6.0   \n",
       "6    BMW    1 Series  2012  premium unleaded (required)  300.0        6.0   \n",
       "7    BMW    1 Series  2012  premium unleaded (required)  300.0        6.0   \n",
       "8    BMW    1 Series  2012  premium unleaded (required)  230.0        6.0   \n",
       "9    BMW    1 Series  2013  premium unleaded (required)  230.0        6.0   \n",
       "10   BMW    1 Series  2013  premium unleaded (required)  300.0        6.0   \n",
       "11   BMW    1 Series  2013  premium unleaded (required)  230.0        6.0   \n",
       "12   BMW    1 Series  2013  premium unleaded (required)  300.0        6.0   \n",
       "13   BMW    1 Series  2013  premium unleaded (required)  230.0        6.0   \n",
       "15   BMW    1 Series  2013  premium unleaded (required)  320.0        6.0   \n",
       "16   BMW    1 Series  2013  premium unleaded (required)  320.0        6.0   \n",
       "17  Audi         100  1992             regular unleaded  172.0        6.0   \n",
       "19  Audi         100  1992             regular unleaded  172.0        6.0   \n",
       "21  Audi         100  1992             regular unleaded  172.0        6.0   \n",
       "22  Audi         100  1993             regular unleaded  172.0        6.0   \n",
       "23  Audi         100  1993             regular unleaded  172.0        6.0   \n",
       "26  Audi         100  1993             regular unleaded  172.0        6.0   \n",
       "\n",
       "   Transmission         Drive Mode  Number of Doors Vehicle Size  \\\n",
       "0        MANUAL   rear wheel drive              2.0      Compact   \n",
       "1        MANUAL   rear wheel drive              2.0      Compact   \n",
       "2        MANUAL   rear wheel drive              2.0      Compact   \n",
       "3        MANUAL   rear wheel drive              2.0      Compact   \n",
       "4        MANUAL   rear wheel drive              2.0      Compact   \n",
       "5        MANUAL   rear wheel drive              2.0      Compact   \n",
       "6        MANUAL   rear wheel drive              2.0      Compact   \n",
       "7        MANUAL   rear wheel drive              2.0      Compact   \n",
       "8        MANUAL   rear wheel drive              2.0      Compact   \n",
       "9        MANUAL   rear wheel drive              2.0      Compact   \n",
       "10       MANUAL   rear wheel drive              2.0      Compact   \n",
       "11       MANUAL   rear wheel drive              2.0      Compact   \n",
       "12       MANUAL   rear wheel drive              2.0      Compact   \n",
       "13       MANUAL   rear wheel drive              2.0      Compact   \n",
       "15       MANUAL   rear wheel drive              2.0      Compact   \n",
       "16       MANUAL   rear wheel drive              2.0      Compact   \n",
       "17       MANUAL  front wheel drive              4.0      Midsize   \n",
       "19    AUTOMATIC    all wheel drive              4.0      Midsize   \n",
       "21       MANUAL    all wheel drive              4.0      Midsize   \n",
       "22       MANUAL  front wheel drive              4.0      Midsize   \n",
       "23    AUTOMATIC    all wheel drive              4.0      Midsize   \n",
       "26       MANUAL    all wheel drive              4.0      Midsize   \n",
       "\n",
       "   Vehicle Style  MPG-H  MPG-C  Popularity  Price  \n",
       "0          Coupe     26     19        3916  46135  \n",
       "1    Convertible     28     19        3916  40650  \n",
       "2          Coupe     28     20        3916  36350  \n",
       "3          Coupe     28     18        3916  29450  \n",
       "4    Convertible     28     18        3916  34500  \n",
       "5          Coupe     28     18        3916  31200  \n",
       "6    Convertible     26     17        3916  44100  \n",
       "7          Coupe     28     20        3916  39300  \n",
       "8    Convertible     28     18        3916  36900  \n",
       "9    Convertible     27     18        3916  37200  \n",
       "10         Coupe     28     20        3916  39600  \n",
       "11         Coupe     28     19        3916  31500  \n",
       "12   Convertible     28     19        3916  44400  \n",
       "13   Convertible     28     19        3916  37200  \n",
       "15   Convertible     25     18        3916  48250  \n",
       "16         Coupe     28     20        3916  43550  \n",
       "17         Sedan     24     17        3105   2000  \n",
       "19         Wagon     20     16        3105   2000  \n",
       "21         Sedan     21     16        3105   2000  \n",
       "22         Sedan     24     17        3105   2000  \n",
       "23         Wagon     20     16        3105   2000  \n",
       "26         Sedan     21     16        3105   2000  "
      ]
     },
     "execution_count": 154,
     "metadata": {},
     "output_type": "execute_result"
    }
   ],
   "source": [
    "mcp_data.head(22)"
   ]
  },
  {
   "cell_type": "markdown",
   "metadata": {},
   "source": [
    "Now from the above table we could see that the row for S.No.=14 is missing from our dataset and this is due to the fact that it is same as the row of S.No=13. So, we have dropped the row of S.No.=14. Same concept applies to other duplicate rows as well"
   ]
  },
  {
   "cell_type": "markdown",
   "metadata": {},
   "source": [
    "### 4.1 Dropping the missing or null values.\n",
    "Now in this step all the missing values are detected. Now simply dropping the null values is not good since it can lower down the performance of our model. So, we better replace the real-valued column having null values by mean and categorical column having null values to be replaced by mode "
   ]
  },
  {
   "cell_type": "code",
   "execution_count": 155,
   "metadata": {},
   "outputs": [
    {
     "name": "stdout",
     "output_type": "stream",
     "text": [
      "Make                 0\n",
      "Model                0\n",
      "Year                 0\n",
      "Engine Fuel Type     3\n",
      "HP                  69\n",
      "Cylinders           30\n",
      "Transmission         0\n",
      "Drive Mode           0\n",
      "Number of Doors      6\n",
      "Vehicle Size         0\n",
      "Vehicle Style        0\n",
      "MPG-H                0\n",
      "MPG-C                0\n",
      "Popularity           0\n",
      "Price                0\n",
      "dtype: int64\n"
     ]
    }
   ],
   "source": [
    "# printing the no. of null values for each column\n",
    "print(mcp_data.isnull().sum())"
   ]
  },
  {
   "cell_type": "markdown",
   "metadata": {},
   "source": [
    "#### 1. HP(Real-Valued Column)"
   ]
  },
  {
   "cell_type": "code",
   "execution_count": 276,
   "metadata": {},
   "outputs": [
    {
     "data": {
      "text/plain": [
       "0"
      ]
     },
     "execution_count": 276,
     "metadata": {},
     "output_type": "execute_result"
    }
   ],
   "source": [
    "# It basically resets the option that we have set in the previous code segment\n",
    "mean=mcp_data[\"HP\"].mean()\n",
    "mcp_data[\"HP\"]=mcp_data[\"HP\"].fillna(mean)\n",
    "mcp_data[\"HP\"].isnull().sum()"
   ]
  },
  {
   "cell_type": "markdown",
   "metadata": {},
   "source": [
    "#### 2. Engine Fuel Type(Categorical-Column)"
   ]
  },
  {
   "cell_type": "code",
   "execution_count": 157,
   "metadata": {},
   "outputs": [
    {
     "data": {
      "text/plain": [
       "0    regular unleaded\n",
       "dtype: object"
      ]
     },
     "execution_count": 157,
     "metadata": {},
     "output_type": "execute_result"
    }
   ],
   "source": [
    "mode=mcp_data[\"Engine Fuel Type\"].mode()\n",
    "mode"
   ]
  },
  {
   "cell_type": "code",
   "execution_count": 277,
   "metadata": {},
   "outputs": [
    {
     "data": {
      "text/plain": [
       "0"
      ]
     },
     "execution_count": 277,
     "metadata": {},
     "output_type": "execute_result"
    }
   ],
   "source": [
    "# Since mode is coming out as regular unleaded so we replace null values by this mode\n",
    "mcp_data[\"Engine Fuel Type\"]=mcp_data[\"Engine Fuel Type\"].fillna(\"regular unleaded\")\n",
    "mcp_data[\"Engine Fuel Type\"].isnull().sum()"
   ]
  },
  {
   "cell_type": "markdown",
   "metadata": {},
   "source": [
    "#### 3. Engine Cylinders(Categorical-Column)"
   ]
  },
  {
   "cell_type": "code",
   "execution_count": 159,
   "metadata": {},
   "outputs": [
    {
     "data": {
      "text/plain": [
       "0    4.0\n",
       "dtype: float64"
      ]
     },
     "execution_count": 159,
     "metadata": {},
     "output_type": "execute_result"
    }
   ],
   "source": [
    "mode=mcp_data['Cylinders'].mode()\n",
    "mode"
   ]
  },
  {
   "cell_type": "code",
   "execution_count": 278,
   "metadata": {},
   "outputs": [
    {
     "data": {
      "text/plain": [
       "0"
      ]
     },
     "execution_count": 278,
     "metadata": {},
     "output_type": "execute_result"
    }
   ],
   "source": [
    "# Since mode is coming out as 4.0 so we replace null values by this mode\n",
    "mcp_data[\"Cylinders\"]=mcp_data[\"Cylinders\"].fillna(4.0)\n",
    "mcp_data[\"Cylinders\"].isnull().sum()"
   ]
  },
  {
   "cell_type": "markdown",
   "metadata": {},
   "source": [
    "#### 4. No. of Doors(Categorical-Column)"
   ]
  },
  {
   "cell_type": "code",
   "execution_count": 161,
   "metadata": {},
   "outputs": [
    {
     "data": {
      "text/plain": [
       "0    4.0\n",
       "dtype: float64"
      ]
     },
     "execution_count": 161,
     "metadata": {},
     "output_type": "execute_result"
    }
   ],
   "source": [
    "mode=mcp_data[\"Number of Doors\"].mode()\n",
    "mode"
   ]
  },
  {
   "cell_type": "code",
   "execution_count": 279,
   "metadata": {},
   "outputs": [
    {
     "data": {
      "text/plain": [
       "0"
      ]
     },
     "execution_count": 279,
     "metadata": {},
     "output_type": "execute_result"
    }
   ],
   "source": [
    "# Since mode is coming out as 4.0 so we replace null values by this mode\n",
    "mcp_data[\"Number of Doors\"]=mcp_data[\"Number of Doors\"].fillna(4.0)\n",
    "mcp_data[\"Number of Doors\"].isnull().sum()"
   ]
  },
  {
   "cell_type": "code",
   "execution_count": 280,
   "metadata": {},
   "outputs": [
    {
     "name": "stdout",
     "output_type": "stream",
     "text": [
      "Make                0\n",
      "Model               0\n",
      "Year                0\n",
      "Engine Fuel Type    0\n",
      "HP                  0\n",
      "Cylinders           0\n",
      "Transmission        0\n",
      "Drive Mode          0\n",
      "Number of Doors     0\n",
      "Vehicle Size        0\n",
      "Vehicle Style       0\n",
      "MPG-H               0\n",
      "MPG-C               0\n",
      "Popularity          0\n",
      "Price               0\n",
      "dtype: int64\n"
     ]
    }
   ],
   "source": [
    "print(mcp_data.isnull().sum())"
   ]
  },
  {
   "cell_type": "markdown",
   "metadata": {},
   "source": [
    "## 5. Detecting And Removing Outliers\n",
    "An outlier is an observation that lies an abnormal distance from other values in a random sample from a population. In a sense, this definition leaves it up to the analyst (or a consensus process) to decide what will be considered abnormal. Before abnormal observations can be singled out, it is necessary to characterize normal observations. So we will detect outliers with the help of boxplot\n"
   ]
  },
  {
   "cell_type": "code",
   "execution_count": 164,
   "metadata": {},
   "outputs": [
    {
     "data": {
      "text/plain": [
       "Make                 object\n",
       "Model                object\n",
       "Year                  int64\n",
       "Engine Fuel Type     object\n",
       "HP                  float64\n",
       "Cylinders           float64\n",
       "Transmission         object\n",
       "Drive Mode           object\n",
       "Number of Doors     float64\n",
       "Vehicle Size         object\n",
       "Vehicle Style        object\n",
       "MPG-H                 int64\n",
       "MPG-C                 int64\n",
       "Popularity            int64\n",
       "Price                 int64\n",
       "dtype: object"
      ]
     },
     "execution_count": 164,
     "metadata": {},
     "output_type": "execute_result"
    }
   ],
   "source": [
    "# For checking datatypes of columns (Since we will plot graphs of integers and floats only).\n",
    "mcp_data.dtypes"
   ]
  },
  {
   "cell_type": "code",
   "execution_count": 165,
   "metadata": {},
   "outputs": [
    {
     "data": {
      "text/plain": [
       "<matplotlib.axes._subplots.AxesSubplot at 0x106f2d30>"
      ]
     },
     "execution_count": 165,
     "metadata": {},
     "output_type": "execute_result"
    },
    {
     "data": {
      "image/png": "[encoded data removed]",
      "text/plain": [
       "<Figure size 432x288 with 1 Axes>"
      ]
     },
     "metadata": {
      "needs_background": "light"
     },
     "output_type": "display_data"
    }
   ],
   "source": [
    "# Detecting outliers in column HP using box-plot\n",
    "sns.boxplot(x=\"HP\", data=mcp_data)"
   ]
  },
  {
   "cell_type": "code",
   "execution_count": 166,
   "metadata": {},
   "outputs": [
    {
     "name": "stdout",
     "output_type": "stream",
     "text": [
      "For column HP :\n"
     ]
    },
    {
     "data": {
      "text/plain": [
       "count    11194.000000\n",
       "mean       253.390562\n",
       "std        109.830525\n",
       "min         55.000000\n",
       "25%        172.000000\n",
       "50%        240.000000\n",
       "75%        303.000000\n",
       "max       1001.000000\n",
       "Name: HP, dtype: float64"
      ]
     },
     "execution_count": 166,
     "metadata": {},
     "output_type": "execute_result"
    }
   ],
   "source": [
    "print(\"For column HP :\")\n",
    "mcp_data[\"HP\"].describe()"
   ]
  },
  {
   "cell_type": "code",
   "execution_count": 167,
   "metadata": {},
   "outputs": [
    {
     "name": "stdout",
     "output_type": "stream",
     "text": [
      "('Before removing Outliers: ', (11194, 15))\n",
      "('After removing Outliers: ', (10692, 15))\n"
     ]
    },
    {
     "data": {
      "text/plain": [
       "Text(0.5,1,'Without Outliers')"
      ]
     },
     "execution_count": 167,
     "metadata": {},
     "output_type": "execute_result"
    },
    {
     "data": {
      "image/png": "[encoded data removed]",
      "text/plain": [
       "<Figure size 432x288 with 1 Axes>"
      ]
     },
     "metadata": {
      "needs_background": "light"
     },
     "output_type": "display_data"
    }
   ],
   "source": [
    "# Removing outlier from column \"HP\" using IQR(Inter-Quantile range)\n",
    "print(\"Before removing Outliers: \",mcp_data.shape)\n",
    "q1=mcp_data[\"HP\"].quantile(0.25)\n",
    "q3=mcp_data[\"HP\"].quantile(0.75)\n",
    "iqr=q3-q1\n",
    "lower_limit=q1-1.5*iqr\n",
    "upper_limit=q3+1.5*iqr\n",
    "mcp_data=mcp_data[(mcp_data[\"HP\"] >= lower_limit)&(mcp_data[\"HP\"] <= upper_limit)]\n",
    "print(\"After removing Outliers: \",mcp_data.shape)\n",
    "sns.boxplot(x=\"HP\", data=mcp_data).set_title(\"Without Outliers\")"
   ]
  },
  {
   "cell_type": "code",
   "execution_count": 168,
   "metadata": {},
   "outputs": [
    {
     "data": {
      "text/plain": [
       "<matplotlib.axes._subplots.AxesSubplot at 0x10b76e10>"
      ]
     },
     "execution_count": 168,
     "metadata": {},
     "output_type": "execute_result"
    },
    {
     "data": {
      "image/png": "[encoded data removed]",
      "text/plain": [
       "<Figure size 432x288 with 1 Axes>"
      ]
     },
     "metadata": {
      "needs_background": "light"
     },
     "output_type": "display_data"
    }
   ],
   "source": [
    "# Detecting outliers in column MPG-H using box-plot\n",
    "sns.boxplot(x=\"MPG-H\", data=mcp_data)"
   ]
  },
  {
   "cell_type": "code",
   "execution_count": 169,
   "metadata": {},
   "outputs": [
    {
     "name": "stdout",
     "output_type": "stream",
     "text": [
      "For column MPG-H :\n"
     ]
    },
    {
     "data": {
      "text/plain": [
       "count    10692.000000\n",
       "mean        26.932379\n",
       "std          9.038440\n",
       "min         12.000000\n",
       "25%         22.000000\n",
       "50%         26.000000\n",
       "75%         30.000000\n",
       "max        354.000000\n",
       "Name: MPG-H, dtype: float64"
      ]
     },
     "execution_count": 169,
     "metadata": {},
     "output_type": "execute_result"
    }
   ],
   "source": [
    "print(\"For column MPG-H :\")\n",
    "mcp_data[\"MPG-H\"].describe()"
   ]
  },
  {
   "cell_type": "code",
   "execution_count": 170,
   "metadata": {},
   "outputs": [
    {
     "name": "stdout",
     "output_type": "stream",
     "text": [
      "('Before removing Outliers: ', (10692, 15))\n",
      "('After removing Outliers: ', (10510, 15))\n"
     ]
    },
    {
     "data": {
      "text/plain": [
       "Text(0.5,1,'Without Outliers')"
      ]
     },
     "execution_count": 170,
     "metadata": {},
     "output_type": "execute_result"
    },
    {
     "data": {
      "image/png": "[encoded data removed]",
      "text/plain": [
       "<Figure size 432x288 with 1 Axes>"
      ]
     },
     "metadata": {
      "needs_background": "light"
     },
     "output_type": "display_data"
    }
   ],
   "source": [
    "# Removing outlier from column \"MPG-H\" using IQR(Inter-Quantile range)\n",
    "print(\"Before removing Outliers: \",mcp_data.shape)\n",
    "q1=mcp_data[\"MPG-H\"].quantile(0.25)\n",
    "q3=mcp_data[\"MPG-H\"].quantile(0.75)\n",
    "iqr=q3-q1\n",
    "lower_limit=q1-1.5*iqr\n",
    "upper_limit=q3+1.5*iqr\n",
    "mcp_data=mcp_data[(mcp_data[\"MPG-H\"] >= lower_limit)&(mcp_data[\"MPG-H\"] <= upper_limit)]\n",
    "print(\"After removing Outliers: \",mcp_data.shape)\n",
    "sns.boxplot(x=\"MPG-H\", data=mcp_data).set_title(\"Without Outliers\")"
   ]
  },
  {
   "cell_type": "code",
   "execution_count": 171,
   "metadata": {},
   "outputs": [
    {
     "data": {
      "text/plain": [
       "<matplotlib.axes._subplots.AxesSubplot at 0x11629a20>"
      ]
     },
     "execution_count": 171,
     "metadata": {},
     "output_type": "execute_result"
    },
    {
     "data": {
      "image/png": "[encoded data removed]",
      "text/plain": [
       "<Figure size 432x288 with 1 Axes>"
      ]
     },
     "metadata": {
      "needs_background": "light"
     },
     "output_type": "display_data"
    }
   ],
   "source": [
    "# Detecting outliers in column MPG-C using box-plot\n",
    "sns.boxplot(x=\"MPG-C\", data=mcp_data)"
   ]
  },
  {
   "cell_type": "code",
   "execution_count": 172,
   "metadata": {},
   "outputs": [
    {
     "name": "stdout",
     "output_type": "stream",
     "text": [
      "For column MPG-C :\n"
     ]
    },
    {
     "data": {
      "text/plain": [
       "count    10510.000000\n",
       "mean        19.215604\n",
       "std          4.918166\n",
       "min          8.000000\n",
       "25%         16.000000\n",
       "50%         18.000000\n",
       "75%         22.000000\n",
       "max         44.000000\n",
       "Name: MPG-C, dtype: float64"
      ]
     },
     "execution_count": 172,
     "metadata": {},
     "output_type": "execute_result"
    }
   ],
   "source": [
    "print(\"For column MPG-C :\")\n",
    "mcp_data[\"MPG-C\"].describe()"
   ]
  },
  {
   "cell_type": "code",
   "execution_count": 173,
   "metadata": {},
   "outputs": [
    {
     "name": "stdout",
     "output_type": "stream",
     "text": [
      "('Before removing Outliers: ', (10510, 15))\n",
      "('After removing Outliers: ', (10360, 15))\n"
     ]
    },
    {
     "data": {
      "text/plain": [
       "Text(0.5,1,'Without Outliers')"
      ]
     },
     "execution_count": 173,
     "metadata": {},
     "output_type": "execute_result"
    },
    {
     "data": {
      "image/png": "[encoded data removed]",
      "text/plain": [
       "<Figure size 432x288 with 1 Axes>"
      ]
     },
     "metadata": {
      "needs_background": "light"
     },
     "output_type": "display_data"
    }
   ],
   "source": [
    "# Removing outlier from column \"MPG-C\" using IQR(Inter-Quantile range)\n",
    "print(\"Before removing Outliers: \",mcp_data.shape)\n",
    "q1=mcp_data[\"MPG-C\"].quantile(0.25)\n",
    "q3=mcp_data[\"MPG-C\"].quantile(0.75)\n",
    "iqr=q3-q1\n",
    "lower_limit=q1-1.5*iqr\n",
    "upper_limit=q3+1.5*iqr\n",
    "mcp_data=mcp_data[(mcp_data[\"MPG-C\"] >= lower_limit)&(mcp_data[\"MPG-C\"] <= upper_limit)]\n",
    "print(\"After removing Outliers: \",mcp_data.shape)\n",
    "sns.boxplot(x=\"MPG-C\", data=mcp_data).set_title(\"Without Outliers\")"
   ]
  },
  {
   "cell_type": "code",
   "execution_count": 174,
   "metadata": {},
   "outputs": [
    {
     "data": {
      "text/plain": [
       "<matplotlib.axes._subplots.AxesSubplot at 0x119e37f0>"
      ]
     },
     "execution_count": 174,
     "metadata": {},
     "output_type": "execute_result"
    },
    {
     "data": {
      "image/png": "[encoded data removed]",
      "text/plain": [
       "<Figure size 432x288 with 1 Axes>"
      ]
     },
     "metadata": {
      "needs_background": "light"
     },
     "output_type": "display_data"
    }
   ],
   "source": [
    "# Detecting outliers in column Cylinders using box-plot\n",
    "sns.boxplot(x=\"Cylinders\", data=mcp_data)"
   ]
  },
  {
   "cell_type": "code",
   "execution_count": 175,
   "metadata": {},
   "outputs": [
    {
     "name": "stdout",
     "output_type": "stream",
     "text": [
      "For column Cylinders :\n"
     ]
    },
    {
     "data": {
      "text/plain": [
       "count    10360.000000\n",
       "mean         5.545367\n",
       "std          1.502923\n",
       "min          3.000000\n",
       "25%          4.000000\n",
       "50%          6.000000\n",
       "75%          6.000000\n",
       "max         12.000000\n",
       "Name: Cylinders, dtype: float64"
      ]
     },
     "execution_count": 175,
     "metadata": {},
     "output_type": "execute_result"
    }
   ],
   "source": [
    "print(\"For column Cylinders :\")\n",
    "mcp_data[\"Cylinders\"].describe()"
   ]
  },
  {
   "cell_type": "code",
   "execution_count": 176,
   "metadata": {},
   "outputs": [
    {
     "name": "stdout",
     "output_type": "stream",
     "text": [
      "('Before removing Outliers: ', (10360, 15))\n",
      "('After removing Outliers: ', (10309, 15))\n"
     ]
    },
    {
     "data": {
      "text/plain": [
       "Text(0.5,1,'Without Outliers')"
      ]
     },
     "execution_count": 176,
     "metadata": {},
     "output_type": "execute_result"
    },
    {
     "data": {
      "image/png": "[encoded data removed]",
      "text/plain": [
       "<Figure size 432x288 with 1 Axes>"
      ]
     },
     "metadata": {
      "needs_background": "light"
     },
     "output_type": "display_data"
    }
   ],
   "source": [
    "# Removing outlier from column \"Cylinders\" using IQR(Inter-Quantile range)\n",
    "print(\"Before removing Outliers: \",mcp_data.shape)\n",
    "q1=mcp_data[\"Cylinders\"].quantile(0.25)\n",
    "q3=mcp_data[\"Cylinders\"].quantile(0.75)\n",
    "iqr=q3-q1\n",
    "lower_limit=q1-1.5*iqr\n",
    "upper_limit=q3+1.5*iqr\n",
    "mcp_data=mcp_data[(mcp_data[\"Cylinders\"] >= lower_limit)&(mcp_data[\"Cylinders\"] <= upper_limit)]\n",
    "print(\"After removing Outliers: \",mcp_data.shape)\n",
    "sns.boxplot(x=\"Cylinders\", data=mcp_data).set_title(\"Without Outliers\")"
   ]
  },
  {
   "cell_type": "code",
   "execution_count": 177,
   "metadata": {},
   "outputs": [
    {
     "data": {
      "text/plain": [
       "<matplotlib.axes._subplots.AxesSubplot at 0x11c6d9e8>"
      ]
     },
     "execution_count": 177,
     "metadata": {},
     "output_type": "execute_result"
    },
    {
     "data": {
      "image/png": "[encoded data removed]",
      "text/plain": [
       "<Figure size 432x288 with 1 Axes>"
      ]
     },
     "metadata": {
      "needs_background": "light"
     },
     "output_type": "display_data"
    }
   ],
   "source": [
    "# Detecting outliers in column Price using box-plot\n",
    "sns.boxplot(x=\"Price\", data=mcp_data)"
   ]
  },
  {
   "cell_type": "code",
   "execution_count": 178,
   "metadata": {},
   "outputs": [
    {
     "name": "stdout",
     "output_type": "stream",
     "text": [
      "For column Price :\n"
     ]
    },
    {
     "data": {
      "text/plain": [
       "count     10309.000000\n",
       "mean      32933.166650\n",
       "std       24820.501947\n",
       "min        2000.000000\n",
       "25%       20995.000000\n",
       "50%       29895.000000\n",
       "75%       40915.000000\n",
       "max      359990.000000\n",
       "Name: Price, dtype: float64"
      ]
     },
     "execution_count": 178,
     "metadata": {},
     "output_type": "execute_result"
    }
   ],
   "source": [
    "print(\"For column Price :\")\n",
    "mcp_data[\"Price\"].describe()"
   ]
  },
  {
   "cell_type": "code",
   "execution_count": 179,
   "metadata": {},
   "outputs": [
    {
     "name": "stdout",
     "output_type": "stream",
     "text": [
      "('Before removing Outliers: ', (10309, 15))\n",
      "('After removing Outliers: ', (9807, 15))\n"
     ]
    },
    {
     "data": {
      "text/plain": [
       "Text(0.5,1,'Without Outliers')"
      ]
     },
     "execution_count": 179,
     "metadata": {},
     "output_type": "execute_result"
    },
    {
     "data": {
      "image/png": "[encoded data removed]",
      "text/plain": [
       "<Figure size 432x288 with 1 Axes>"
      ]
     },
     "metadata": {
      "needs_background": "light"
     },
     "output_type": "display_data"
    }
   ],
   "source": [
    "# Removing outlier from column \"Price\" using IQR(Inter-Quantile range)\n",
    "print(\"Before removing Outliers: \",mcp_data.shape)\n",
    "q1=mcp_data[\"Price\"].quantile(0.25)\n",
    "q3=mcp_data[\"Price\"].quantile(0.75)\n",
    "iqr=q3-q1\n",
    "lower_limit=q1-1.5*iqr\n",
    "upper_limit=q3+1.5*iqr\n",
    "mcp_data=mcp_data[(mcp_data[\"Price\"] >= lower_limit)&(mcp_data[\"Price\"] <= upper_limit)]\n",
    "print(\"After removing Outliers: \",mcp_data.shape)\n",
    "sns.boxplot(x=\"Price\", data=mcp_data).set_title(\"Without Outliers\")"
   ]
  },
  {
   "cell_type": "code",
   "execution_count": 180,
   "metadata": {},
   "outputs": [
    {
     "data": {
      "text/plain": [
       "<matplotlib.axes._subplots.AxesSubplot at 0x120aea20>"
      ]
     },
     "execution_count": 180,
     "metadata": {},
     "output_type": "execute_result"
    },
    {
     "data": {
      "image/png": "[encoded data removed]",
      "text/plain": [
       "<Figure size 432x288 with 1 Axes>"
      ]
     },
     "metadata": {
      "needs_background": "light"
     },
     "output_type": "display_data"
    }
   ],
   "source": [
    "# Detecting outliers in column Popularity using box-plot\n",
    "sns.boxplot(x=\"Popularity\", data=mcp_data)"
   ]
  },
  {
   "cell_type": "code",
   "execution_count": 181,
   "metadata": {},
   "outputs": [
    {
     "name": "stdout",
     "output_type": "stream",
     "text": [
      "For column Popularity :\n"
     ]
    },
    {
     "data": {
      "text/plain": [
       "count    9807.000000\n",
       "mean     1556.156521\n",
       "std      1462.815790\n",
       "min        21.000000\n",
       "25%       549.000000\n",
       "50%      1385.000000\n",
       "75%      2009.000000\n",
       "max      5657.000000\n",
       "Name: Popularity, dtype: float64"
      ]
     },
     "execution_count": 181,
     "metadata": {},
     "output_type": "execute_result"
    }
   ],
   "source": [
    "print(\"For column Popularity :\")\n",
    "mcp_data[\"Popularity\"].describe()"
   ]
  },
  {
   "cell_type": "code",
   "execution_count": 182,
   "metadata": {},
   "outputs": [
    {
     "name": "stdout",
     "output_type": "stream",
     "text": [
      "('Before removing Outliers: ', (9807, 15))\n",
      "('After removing Outliers: ', (9021, 15))\n"
     ]
    },
    {
     "data": {
      "text/plain": [
       "Text(0.5,1,'Without Outliers')"
      ]
     },
     "execution_count": 182,
     "metadata": {},
     "output_type": "execute_result"
    },
    {
     "data": {
      "image/png": "[encoded data removed]",
      "text/plain": [
       "<Figure size 432x288 with 1 Axes>"
      ]
     },
     "metadata": {
      "needs_background": "light"
     },
     "output_type": "display_data"
    }
   ],
   "source": [
    "# Removing outlier from column \"Price\" using IQR(Inter-Quantile range)\n",
    "print(\"Before removing Outliers: \",mcp_data.shape)\n",
    "q1=mcp_data[\"Popularity\"].quantile(0.25)\n",
    "q3=mcp_data[\"Popularity\"].quantile(0.75)\n",
    "iqr=q3-q1\n",
    "lower_limit=q1-1.5*iqr\n",
    "upper_limit=q3+1.5*iqr\n",
    "mcp_data=mcp_data[(mcp_data[\"Popularity\"] >= lower_limit)&(mcp_data[\"Popularity\"] <= upper_limit)]\n",
    "print(\"After removing Outliers: \",mcp_data.shape)\n",
    "sns.boxplot(x=\"Popularity\", data=mcp_data).set_title(\"Without Outliers\")"
   ]
  },
  {
   "cell_type": "markdown",
   "metadata": {},
   "source": [
    "## 6. Top Car brands "
   ]
  },
  {
   "cell_type": "code",
   "execution_count": 121,
   "metadata": {},
   "outputs": [
    {
     "data": {
      "image/png": "[encoded data removed]",
      "text/plain": [
       "<Figure size 720x360 with 1 Axes>"
      ]
     },
     "metadata": {
      "needs_background": "light"
     },
     "output_type": "display_data"
    }
   ],
   "source": [
    "# Percentage of car per brand\n",
    "counts = mcp_data['Make'].value_counts()*100/sum(mcp_data['Make'].value_counts())\n",
    "# Top 10 car brands\n",
    "popular_labels = counts.index[:10]\n",
    "    \n",
    "# Plot\n",
    "plt.figure(figsize=(10,5))\n",
    "plt.barh(popular_labels, width=counts[:10], color=\"red\")\n",
    "plt.xlabel(\"Proportion\")\n",
    "plt.ylabel(\"Car brand\")\n",
    "plt.title('Top 10 Car brands')\n",
    "plt.show()\n"
   ]
  },
  {
   "cell_type": "code",
   "execution_count": 265,
   "metadata": {},
   "outputs": [
    {
     "data": {
      "image/png": "[encoded data removed]",
      "text/plain": [
       "<Figure size 360x360 with 1 Axes>"
      ]
     },
     "metadata": {},
     "output_type": "display_data"
    }
   ],
   "source": [
    "# Data to plot\n",
    "values=list(mcp_data['Make'].value_counts())\n",
    "labels=mcp_data['Make'].value_counts().index[:10]\n",
    "colors = ['red','orange','green','yellow','blue','pink','brown','violet','cyan','magenta']\n",
    "# Plot\n",
    "plt.figure(figsize=(5,5))\n",
    "plt.pie(values[:10],colors=colors, labels=labels, autopct='%1.1f%%', shadow=True, startangle=140)\n",
    "plt.axis('equal')\n",
    "plt.title(\"Top 10 Car Brands\",verticalalignment='bottom',horizontalalignment='center')\n",
    "plt.show()"
   ]
  },
  {
   "cell_type": "markdown",
   "metadata": {},
   "source": [
    "Now from the above barplot and pie-chart we could see that Chevrolet has manufactured the highest car models among other car brands. Thus, Chevrolet is then followed by Toyota manufacturing second highest no. of car models, and then followed by Nissan and Vplkswagen"
   ]
  },
  {
   "cell_type": "code",
   "execution_count": 239,
   "metadata": {},
   "outputs": [
    {
     "name": "stdout",
     "output_type": "stream",
     "text": [
      "                   Price\n",
      "Make                    \n",
      "Chevrolet   27778.809432\n",
      "Dodge       22183.928994\n",
      "GMC         32281.997917\n",
      "Honda       27112.066313\n",
      "Mazda       20336.517157\n",
      "Nissan      27507.273585\n",
      "Toyota      28549.128125\n",
      "Volkswagen  28043.385633\n"
     ]
    }
   ],
   "source": [
    "prices = mcp_data[['Make','Price']].loc[(mcp_data['Make'] == 'Chevrolet')|\n",
    "               (mcp_data['Make'] == 'Ford')|\n",
    "               (mcp_data['Make'] == 'Volkswagen')|\n",
    "               (mcp_data['Make'] == 'Toyota')|\n",
    "               (mcp_data['Make'] == 'Dodge')|\n",
    "               (mcp_data['Make'] == 'Nissan')|\n",
    "               (mcp_data['Make'] == 'GMC')|\n",
    "               (mcp_data['Make'] == 'Honda')|\n",
    "               (mcp_data['Make'] == 'Mazda')].groupby('Make').mean()\n",
    "print(prices)\n"
   ]
  },
  {
   "cell_type": "markdown",
   "metadata": {},
   "source": [
    "Now, from the above table we could see that GMC brand has highest average price of cars followed by Toyota and Volkswagen"
   ]
  },
  {
   "cell_type": "markdown",
   "metadata": {},
   "source": [
    "## 7. Correlation Matrix"
   ]
  },
  {
   "cell_type": "code",
   "execution_count": 183,
   "metadata": {},
   "outputs": [
    {
     "name": "stdout",
     "output_type": "stream",
     "text": [
      "Correlation Matrix\n"
     ]
    },
    {
     "data": {
      "text/html": [
       "<div>\n",
       "<style scoped>\n",
       "    .dataframe tbody tr th:only-of-type {\n",
       "        vertical-align: middle;\n",
       "    }\n",
       "\n",
       "    .dataframe tbody tr th {\n",
       "        vertical-align: top;\n",
       "    }\n",
       "\n",
       "    .dataframe thead th {\n",
       "        text-align: right;\n",
       "    }\n",
       "</style>\n",
       "<table border=\"1\" class=\"dataframe\">\n",
       "  <thead>\n",
       "    <tr style=\"text-align: right;\">\n",
       "      <th></th>\n",
       "      <th>Year</th>\n",
       "      <th>HP</th>\n",
       "      <th>Cylinders</th>\n",
       "      <th>Number of Doors</th>\n",
       "      <th>MPG-H</th>\n",
       "      <th>MPG-C</th>\n",
       "      <th>Popularity</th>\n",
       "      <th>Price</th>\n",
       "    </tr>\n",
       "  </thead>\n",
       "  <tbody>\n",
       "    <tr>\n",
       "      <th>Year</th>\n",
       "      <td>1.000000</td>\n",
       "      <td>0.391827</td>\n",
       "      <td>-0.064860</td>\n",
       "      <td>0.273483</td>\n",
       "      <td>0.346654</td>\n",
       "      <td>0.307730</td>\n",
       "      <td>0.179608</td>\n",
       "      <td>0.676562</td>\n",
       "    </tr>\n",
       "    <tr>\n",
       "      <th>HP</th>\n",
       "      <td>0.391827</td>\n",
       "      <td>1.000000</td>\n",
       "      <td>0.720594</td>\n",
       "      <td>0.074045</td>\n",
       "      <td>-0.434937</td>\n",
       "      <td>-0.533092</td>\n",
       "      <td>0.099817</td>\n",
       "      <td>0.741599</td>\n",
       "    </tr>\n",
       "    <tr>\n",
       "      <th>Cylinders</th>\n",
       "      <td>-0.064860</td>\n",
       "      <td>0.720594</td>\n",
       "      <td>1.000000</td>\n",
       "      <td>0.023335</td>\n",
       "      <td>-0.691639</td>\n",
       "      <td>-0.744550</td>\n",
       "      <td>0.023972</td>\n",
       "      <td>0.351027</td>\n",
       "    </tr>\n",
       "    <tr>\n",
       "      <th>Number of Doors</th>\n",
       "      <td>0.273483</td>\n",
       "      <td>0.074045</td>\n",
       "      <td>0.023335</td>\n",
       "      <td>1.000000</td>\n",
       "      <td>0.021927</td>\n",
       "      <td>0.033310</td>\n",
       "      <td>-0.069044</td>\n",
       "      <td>0.178122</td>\n",
       "    </tr>\n",
       "    <tr>\n",
       "      <th>MPG-H</th>\n",
       "      <td>0.346654</td>\n",
       "      <td>-0.434937</td>\n",
       "      <td>-0.691639</td>\n",
       "      <td>0.021927</td>\n",
       "      <td>1.000000</td>\n",
       "      <td>0.938056</td>\n",
       "      <td>0.071348</td>\n",
       "      <td>-0.071824</td>\n",
       "    </tr>\n",
       "    <tr>\n",
       "      <th>MPG-C</th>\n",
       "      <td>0.307730</td>\n",
       "      <td>-0.533092</td>\n",
       "      <td>-0.744550</td>\n",
       "      <td>0.033310</td>\n",
       "      <td>0.938056</td>\n",
       "      <td>1.000000</td>\n",
       "      <td>0.065309</td>\n",
       "      <td>-0.146013</td>\n",
       "    </tr>\n",
       "    <tr>\n",
       "      <th>Popularity</th>\n",
       "      <td>0.179608</td>\n",
       "      <td>0.099817</td>\n",
       "      <td>0.023972</td>\n",
       "      <td>-0.069044</td>\n",
       "      <td>0.071348</td>\n",
       "      <td>0.065309</td>\n",
       "      <td>1.000000</td>\n",
       "      <td>0.107233</td>\n",
       "    </tr>\n",
       "    <tr>\n",
       "      <th>Price</th>\n",
       "      <td>0.676562</td>\n",
       "      <td>0.741599</td>\n",
       "      <td>0.351027</td>\n",
       "      <td>0.178122</td>\n",
       "      <td>-0.071824</td>\n",
       "      <td>-0.146013</td>\n",
       "      <td>0.107233</td>\n",
       "      <td>1.000000</td>\n",
       "    </tr>\n",
       "  </tbody>\n",
       "</table>\n",
       "</div>"
      ],
      "text/plain": [
       "                     Year        HP  Cylinders  Number of Doors     MPG-H  \\\n",
       "Year             1.000000  0.391827  -0.064860         0.273483  0.346654   \n",
       "HP               0.391827  1.000000   0.720594         0.074045 -0.434937   \n",
       "Cylinders       -0.064860  0.720594   1.000000         0.023335 -0.691639   \n",
       "Number of Doors  0.273483  0.074045   0.023335         1.000000  0.021927   \n",
       "MPG-H            0.346654 -0.434937  -0.691639         0.021927  1.000000   \n",
       "MPG-C            0.307730 -0.533092  -0.744550         0.033310  0.938056   \n",
       "Popularity       0.179608  0.099817   0.023972        -0.069044  0.071348   \n",
       "Price            0.676562  0.741599   0.351027         0.178122 -0.071824   \n",
       "\n",
       "                    MPG-C  Popularity     Price  \n",
       "Year             0.307730    0.179608  0.676562  \n",
       "HP              -0.533092    0.099817  0.741599  \n",
       "Cylinders       -0.744550    0.023972  0.351027  \n",
       "Number of Doors  0.033310   -0.069044  0.178122  \n",
       "MPG-H            0.938056    0.071348 -0.071824  \n",
       "MPG-C            1.000000    0.065309 -0.146013  \n",
       "Popularity       0.065309    1.000000  0.107233  \n",
       "Price           -0.146013    0.107233  1.000000  "
      ]
     },
     "execution_count": 183,
     "metadata": {},
     "output_type": "execute_result"
    }
   ],
   "source": [
    "print(\"Correlation Matrix\")\n",
    "mcp_data.corr()"
   ]
  },
  {
   "cell_type": "markdown",
   "metadata": {},
   "source": [
    "### Finding out High correlation\n",
    "* Between HP and Cylinders\n",
    "* Between HP and Price\n",
    "* Between MPG-H and MPG-C\n",
    "\n",
    "So from above, we can conclude that higher is HP more cylinders will be there in car due to positive correlation.\n",
    "Same applies to HP and Price, MPG-H and MPG-C as well"
   ]
  },
  {
   "cell_type": "markdown",
   "metadata": {},
   "source": [
    "### Finding out AntiCorrelation\n",
    "* Between Cylinders and MPG-H\n",
    "* Between Cylinders and MPG-C\n",
    "\n",
    "So from above, we can conclude that higher is MPG-H less cylinders will be there in car due to negative correlation. Same applies to MPG-C and cylinders as well"
   ]
  },
  {
   "cell_type": "markdown",
   "metadata": {},
   "source": [
    "## 8. Performing EDA and plotting heatmap and scatterplots with documenting the findings\n",
    "We generally use scatter plots to find the correlation between two variables. Here the scatter plots are plotted between Horsepower and Price and we can see the plot below. With the plot given below, we can easily draw a trend line."
   ]
  },
  {
   "cell_type": "markdown",
   "metadata": {},
   "source": [
    "### 8.1 Plotting Heatmap"
   ]
  },
  {
   "cell_type": "code",
   "execution_count": 281,
   "metadata": {},
   "outputs": [
    {
     "data": {
      "text/plain": [
       "<matplotlib.axes._subplots.AxesSubplot at 0x13b99f60>"
      ]
     },
     "execution_count": 281,
     "metadata": {},
     "output_type": "execute_result"
    },
    {
     "data": {
      "image/png": "[encoded data removed]",
      "text/plain": [
       "<Figure size 720x360 with 2 Axes>"
      ]
     },
     "metadata": {
      "needs_background": "light"
     },
     "output_type": "display_data"
    }
   ],
   "source": [
    "plt.figure(figsize=(10,5))\n",
    "c= mcp_data.corr()\n",
    "sns.heatmap(c,cmap=\"RdYlGn\",annot=True)"
   ]
  },
  {
   "cell_type": "markdown",
   "metadata": {},
   "source": [
    "### 8.2 Plotting ScatterPlot"
   ]
  },
  {
   "cell_type": "markdown",
   "metadata": {},
   "source": [
    "#### (a) ScatterPlot of HP vs Price"
   ]
  },
  {
   "cell_type": "code",
   "execution_count": 282,
   "metadata": {},
   "outputs": [
    {
     "data": {
      "image/png": "[encoded data removed]",
      "text/plain": [
       "<Figure size 720x432 with 1 Axes>"
      ]
     },
     "metadata": {
      "needs_background": "light"
     },
     "output_type": "display_data"
    }
   ],
   "source": [
    "fig, ax = plt.subplots(figsize=(10,6))\n",
    "ax.scatter(mcp_data[\"HP\"], mcp_data[\"Price\"],color=\"Red\")\n",
    "ax.set_xlabel(\"HP\")\n",
    "ax.set_ylabel('Price')\n",
    "plt.show()"
   ]
  },
  {
   "cell_type": "markdown",
   "metadata": {},
   "source": [
    "Now from the above plot we can conclude that both HP and Price have a positive correlation. So as HP increases, Price of vehicle also increases"
   ]
  },
  {
   "cell_type": "markdown",
   "metadata": {},
   "source": [
    "#### (b) ScatterPlot of Cylinders vs Price"
   ]
  },
  {
   "cell_type": "code",
   "execution_count": 283,
   "metadata": {},
   "outputs": [
    {
     "data": {
      "image/png": "[encoded data removed]",
      "text/plain": [
       "<Figure size 720x432 with 1 Axes>"
      ]
     },
     "metadata": {
      "needs_background": "light"
     },
     "output_type": "display_data"
    }
   ],
   "source": [
    "fig, ax = plt.subplots(figsize=(10,6))\n",
    "ax.scatter(mcp_data[\"Cylinders\"], mcp_data[\"Price\"],color=\"Red\")\n",
    "ax.set_xlabel(\"Cylinders\")\n",
    "ax.set_ylabel('Price')\n",
    "plt.show()"
   ]
  },
  {
   "cell_type": "markdown",
   "metadata": {},
   "source": [
    "Now from the above plot we can conclude that though Cylinders not so significantly affect the price of cars but they do have a positive correlation"
   ]
  },
  {
   "cell_type": "markdown",
   "metadata": {},
   "source": [
    "#### (c) ScatterPlot of MPG-C vs Price"
   ]
  },
  {
   "cell_type": "code",
   "execution_count": 284,
   "metadata": {},
   "outputs": [
    {
     "data": {
      "image/png": "[encoded data removed]",
      "text/plain": [
       "<Figure size 720x432 with 1 Axes>"
      ]
     },
     "metadata": {
      "needs_background": "light"
     },
     "output_type": "display_data"
    }
   ],
   "source": [
    "fig, ax = plt.subplots(figsize=(10,6))\n",
    "ax.scatter(mcp_data[\"MPG-C\"], mcp_data[\"Price\"],color=\"Red\")\n",
    "ax.set_xlabel(\"MPG-C\")\n",
    "ax.set_ylabel('Price')\n",
    "plt.show()"
   ]
  },
  {
   "cell_type": "markdown",
   "metadata": {},
   "source": [
    "Now from the above plot we could conclude that in initial stages MPG-C does not have a direct effect on price of vehicle but as we go on increasing MPG-C, Price of vehicle decreases"
   ]
  },
  {
   "cell_type": "markdown",
   "metadata": {},
   "source": [
    "#### (d) ScatterPlot of MPG-H vs Price"
   ]
  },
  {
   "cell_type": "code",
   "execution_count": 285,
   "metadata": {},
   "outputs": [
    {
     "data": {
      "image/png": "[encoded data removed]",
      "text/plain": [
       "<Figure size 720x432 with 1 Axes>"
      ]
     },
     "metadata": {
      "needs_background": "light"
     },
     "output_type": "display_data"
    }
   ],
   "source": [
    "fig, ax = plt.subplots(figsize=(10,6))\n",
    "ax.scatter(mcp_data[\"MPG-H\"], mcp_data[\"Price\"],color=\"Red\")\n",
    "ax.set_xlabel(\"MPG-H\")\n",
    "ax.set_ylabel('Price')\n",
    "plt.show()"
   ]
  },
  {
   "cell_type": "markdown",
   "metadata": {},
   "source": [
    "Now from the above plot we could conclude that in initial stages MPG-H does not have a direct effect on price of vehicle but as we go on increasing MPG-H, Price of vehicle decreases"
   ]
  },
  {
   "cell_type": "markdown",
   "metadata": {},
   "source": [
    "#### (e) ScatterPlot of Popularity vs Price"
   ]
  },
  {
   "cell_type": "code",
   "execution_count": 286,
   "metadata": {},
   "outputs": [
    {
     "data": {
      "image/png": "[encoded data removed]",
      "text/plain": [
       "<Figure size 720x432 with 1 Axes>"
      ]
     },
     "metadata": {
      "needs_background": "light"
     },
     "output_type": "display_data"
    }
   ],
   "source": [
    "fig, ax = plt.subplots(figsize=(10,6))\n",
    "ax.scatter(mcp_data[\"Popularity\"], mcp_data[\"Price\"],color=\"Red\")\n",
    "ax.set_xlabel(\"Popularity\")\n",
    "ax.set_ylabel('Price')\n",
    "plt.show()"
   ]
  },
  {
   "cell_type": "markdown",
   "metadata": {},
   "source": [
    "Now from the above plot we could conclude that as we go on increasing the Popularity parameter, Price of car also increases but not in a very significant amount"
   ]
  },
  {
   "cell_type": "markdown",
   "metadata": {},
   "source": [
    "### 8.3 Plotting StackPlot"
   ]
  },
  {
   "cell_type": "code",
   "execution_count": 287,
   "metadata": {},
   "outputs": [
    {
     "data": {
      "image/png": "[encoded data removed]",
      "text/plain": [
       "<Figure size 432x288 with 1 Axes>"
      ]
     },
     "metadata": {
      "needs_background": "light"
     },
     "output_type": "display_data"
    }
   ],
   "source": [
    "plt.stackplot(mcp_data[\"Year\"], mcp_data[\"Price\"], colors=\"Red\")\n",
    "plt.xlabel('Year')\n",
    "plt.ylabel('Price')\n",
    "plt.title(\"Price vs Year\")\n",
    "plt.show()"
   ]
  },
  {
   "cell_type": "markdown",
   "metadata": {},
   "source": [
    "Now from the above plot we can conclude that Year does not affect the price of vehicle in a particular fashion"
   ]
  },
  {
   "cell_type": "markdown",
   "metadata": {},
   "source": [
    "### 8.4 Plotting Combined ScatterPlot\n",
    "For getting better analysis of data, we use combined scatterplot by taking two columns against the target variable Price"
   ]
  },
  {
   "cell_type": "markdown",
   "metadata": {},
   "source": [
    "#### (a) Combined ScatterPlot of HP,MPG-C vs Price"
   ]
  },
  {
   "cell_type": "code",
   "execution_count": 288,
   "metadata": {},
   "outputs": [
    {
     "data": {
      "text/plain": [
       "<matplotlib.axes._subplots.AxesSubplot at 0x129ecc88>"
      ]
     },
     "execution_count": 288,
     "metadata": {},
     "output_type": "execute_result"
    },
    {
     "data": {
      "image/png": "[encoded data removed]",
      "text/plain": [
       "<Figure size 432x288 with 2 Axes>"
      ]
     },
     "metadata": {
      "needs_background": "light"
     },
     "output_type": "display_data"
    }
   ],
   "source": [
    "mcp_data.plot.scatter(x=\"HP\",y=\"MPG-C\",c=\"Price\",colormap=\"rainbow_r\")"
   ]
  },
  {
   "cell_type": "markdown",
   "metadata": {},
   "source": [
    "Now from the above plot we could see that as Price of vehicle is high when value of HP is also high and value of MPG-C is intermediate(ie. neither too high nor too low) "
   ]
  },
  {
   "cell_type": "markdown",
   "metadata": {},
   "source": [
    "#### (b) Combined ScatterPlot of HP,MPG-H vs Price"
   ]
  },
  {
   "cell_type": "code",
   "execution_count": 289,
   "metadata": {},
   "outputs": [
    {
     "data": {
      "text/plain": [
       "<matplotlib.axes._subplots.AxesSubplot at 0x14b3bf98>"
      ]
     },
     "execution_count": 289,
     "metadata": {},
     "output_type": "execute_result"
    },
    {
     "data": {
      "image/png": "[encoded data removed]",
      "text/plain": [
       "<Figure size 432x288 with 2 Axes>"
      ]
     },
     "metadata": {
      "needs_background": "light"
     },
     "output_type": "display_data"
    }
   ],
   "source": [
    "mcp_data.plot.scatter(x=\"HP\",y=\"MPG-H\",c=\"Price\",colormap=\"rainbow_r\")"
   ]
  },
  {
   "cell_type": "markdown",
   "metadata": {},
   "source": [
    "Now from the above plot we could see that as Price of vehicle is high when value of HP is also high and value of MPG-H is intermediate(ie. neither too high nor too low) "
   ]
  },
  {
   "cell_type": "markdown",
   "metadata": {},
   "source": [
    "## Model For Machine Learning\n",
    "Earlier we have plotted a correlation matrix and from correlation matrix we can see that the given below attributes ie. HP(NUMERICAL), Cylinders(CATEGORICAL), MPG-C(NUMERICAL) and MPG-H(NUMERICAL) can affect the price of cars. So I have included these attributes in my model"
   ]
  },
  {
   "cell_type": "code",
   "execution_count": 184,
   "metadata": {},
   "outputs": [],
   "source": [
    "x=mcp_data[[\"Cylinders\",\"MPG-H\",\"MPG-C\",\"HP\"]]\n",
    "y=mcp_data[\"Price\"]"
   ]
  },
  {
   "cell_type": "code",
   "execution_count": 185,
   "metadata": {},
   "outputs": [
    {
     "data": {
      "text/html": [
       "<div>\n",
       "<style scoped>\n",
       "    .dataframe tbody tr th:only-of-type {\n",
       "        vertical-align: middle;\n",
       "    }\n",
       "\n",
       "    .dataframe tbody tr th {\n",
       "        vertical-align: top;\n",
       "    }\n",
       "\n",
       "    .dataframe thead th {\n",
       "        text-align: right;\n",
       "    }\n",
       "</style>\n",
       "<table border=\"1\" class=\"dataframe\">\n",
       "  <thead>\n",
       "    <tr style=\"text-align: right;\">\n",
       "      <th></th>\n",
       "      <th>Cylinders</th>\n",
       "      <th>MPG-H</th>\n",
       "      <th>MPG-C</th>\n",
       "      <th>HP</th>\n",
       "    </tr>\n",
       "  </thead>\n",
       "  <tbody>\n",
       "    <tr>\n",
       "      <th>0</th>\n",
       "      <td>6.0</td>\n",
       "      <td>26</td>\n",
       "      <td>19</td>\n",
       "      <td>335.0</td>\n",
       "    </tr>\n",
       "    <tr>\n",
       "      <th>1</th>\n",
       "      <td>6.0</td>\n",
       "      <td>28</td>\n",
       "      <td>19</td>\n",
       "      <td>300.0</td>\n",
       "    </tr>\n",
       "    <tr>\n",
       "      <th>2</th>\n",
       "      <td>6.0</td>\n",
       "      <td>28</td>\n",
       "      <td>20</td>\n",
       "      <td>300.0</td>\n",
       "    </tr>\n",
       "    <tr>\n",
       "      <th>3</th>\n",
       "      <td>6.0</td>\n",
       "      <td>28</td>\n",
       "      <td>18</td>\n",
       "      <td>230.0</td>\n",
       "    </tr>\n",
       "    <tr>\n",
       "      <th>4</th>\n",
       "      <td>6.0</td>\n",
       "      <td>28</td>\n",
       "      <td>18</td>\n",
       "      <td>230.0</td>\n",
       "    </tr>\n",
       "  </tbody>\n",
       "</table>\n",
       "</div>"
      ],
      "text/plain": [
       "   Cylinders  MPG-H  MPG-C     HP\n",
       "0        6.0     26     19  335.0\n",
       "1        6.0     28     19  300.0\n",
       "2        6.0     28     20  300.0\n",
       "3        6.0     28     18  230.0\n",
       "4        6.0     28     18  230.0"
      ]
     },
     "execution_count": 185,
     "metadata": {},
     "output_type": "execute_result"
    }
   ],
   "source": [
    "# Print the first five values of input data\n",
    "type(x)\n",
    "x.head()"
   ]
  },
  {
   "cell_type": "code",
   "execution_count": 186,
   "metadata": {},
   "outputs": [
    {
     "data": {
      "text/plain": [
       "0    46135\n",
       "1    40650\n",
       "2    36350\n",
       "3    29450\n",
       "4    34500\n",
       "Name: Price, dtype: int64"
      ]
     },
     "execution_count": 186,
     "metadata": {},
     "output_type": "execute_result"
    }
   ],
   "source": [
    "# Print first five values of target variable ie. price\n",
    "type(y)\n",
    "y.head()"
   ]
  },
  {
   "cell_type": "markdown",
   "metadata": {},
   "source": [
    "### Train Test Split\n",
    "Now after doing above steps we will divide our complete data in the Training set and Test set. Now we will use 70% of data for training and 30% for the testing for validation."
   ]
  },
  {
   "cell_type": "code",
   "execution_count": 266,
   "metadata": {},
   "outputs": [],
   "source": [
    "# Now importing train_test_split function from sklearn library for splitting the data\n",
    "from sklearn.model_selection import train_test_split \n",
    "# Splitting the data\n",
    "X_train, X_test, Y_train, Y_test = train_test_split( x, y, test_size=0.3) "
   ]
  },
  {
   "cell_type": "markdown",
   "metadata": {},
   "source": [
    "### Creating And Training Model"
   ]
  },
  {
   "cell_type": "code",
   "execution_count": 267,
   "metadata": {},
   "outputs": [],
   "source": [
    "# Now importing LinearRegression function from sklearn library for creating a regression\n",
    "from sklearn.linear_model import LinearRegression "
   ]
  },
  {
   "cell_type": "code",
   "execution_count": 268,
   "metadata": {},
   "outputs": [],
   "source": [
    "# Creating empty regression \n",
    "lr = LinearRegression() "
   ]
  },
  {
   "cell_type": "code",
   "execution_count": 269,
   "metadata": {},
   "outputs": [
    {
     "data": {
      "text/plain": [
       "LinearRegression(copy_X=True, fit_intercept=True, n_jobs=None,\n",
       "         normalize=False)"
      ]
     },
     "execution_count": 269,
     "metadata": {},
     "output_type": "execute_result"
    }
   ],
   "source": [
    "# Now train the model using training data\n",
    "lr.fit(X_train,Y_train)"
   ]
  },
  {
   "cell_type": "code",
   "execution_count": 270,
   "metadata": {},
   "outputs": [
    {
     "name": "stdout",
     "output_type": "stream",
     "text": [
      "-23120.137970605247\n"
     ]
    },
    {
     "data": {
      "text/html": [
       "<div>\n",
       "<style scoped>\n",
       "    .dataframe tbody tr th:only-of-type {\n",
       "        vertical-align: middle;\n",
       "    }\n",
       "\n",
       "    .dataframe tbody tr th {\n",
       "        vertical-align: top;\n",
       "    }\n",
       "\n",
       "    .dataframe thead th {\n",
       "        text-align: right;\n",
       "    }\n",
       "</style>\n",
       "<table border=\"1\" class=\"dataframe\">\n",
       "  <thead>\n",
       "    <tr style=\"text-align: right;\">\n",
       "      <th></th>\n",
       "      <th>Coefficient</th>\n",
       "    </tr>\n",
       "  </thead>\n",
       "  <tbody>\n",
       "    <tr>\n",
       "      <th>Cylinders</th>\n",
       "      <td>-2161.175968</td>\n",
       "    </tr>\n",
       "    <tr>\n",
       "      <th>MPG-H</th>\n",
       "      <td>-9.266795</td>\n",
       "    </tr>\n",
       "    <tr>\n",
       "      <th>MPG-C</th>\n",
       "      <td>905.267696</td>\n",
       "    </tr>\n",
       "    <tr>\n",
       "      <th>HP</th>\n",
       "      <td>202.930456</td>\n",
       "    </tr>\n",
       "  </tbody>\n",
       "</table>\n",
       "</div>"
      ],
      "text/plain": [
       "           Coefficient\n",
       "Cylinders -2161.175968\n",
       "MPG-H        -9.266795\n",
       "MPG-C       905.267696\n",
       "HP          202.930456"
      ]
     },
     "execution_count": 270,
     "metadata": {},
     "output_type": "execute_result"
    }
   ],
   "source": [
    "# Now print the intercept\n",
    "print(lr.intercept_)\n",
    "# Print model summary\n",
    "coeff_mcp_data = pd.DataFrame(lr.coef_,x.columns,columns=[\"Coefficient\"])\n",
    "coeff_mcp_data"
   ]
  },
  {
   "cell_type": "code",
   "execution_count": 271,
   "metadata": {},
   "outputs": [
    {
     "data": {
      "text/plain": [
       "array([49055.25440438, 70472.33685778, 30828.580553  , ...,\n",
       "       35425.87611459, 42867.22293898, 24275.30239142])"
      ]
     },
     "execution_count": 271,
     "metadata": {},
     "output_type": "execute_result"
    }
   ],
   "source": [
    "# Predicting the result for test data\n",
    "y_predicted= lr.predict(X_test) \n",
    "y_predicted"
   ]
  },
  {
   "cell_type": "code",
   "execution_count": 272,
   "metadata": {},
   "outputs": [
    {
     "data": {
      "text/plain": [
       "<matplotlib.collections.PathCollection at 0x13b99b70>"
      ]
     },
     "execution_count": 272,
     "metadata": {},
     "output_type": "execute_result"
    },
    {
     "data": {
      "image/png": "[encoded data removed]",
      "text/plain": [
       "<Figure size 432x288 with 1 Axes>"
      ]
     },
     "metadata": {
      "needs_background": "light"
     },
     "output_type": "display_data"
    }
   ],
   "source": [
    "plt.scatter(Y_test,y_predicted)"
   ]
  },
  {
   "cell_type": "code",
   "execution_count": 273,
   "metadata": {},
   "outputs": [
    {
     "data": {
      "text/plain": [
       "<matplotlib.axes._subplots.AxesSubplot at 0x13b99f98>"
      ]
     },
     "execution_count": 273,
     "metadata": {},
     "output_type": "execute_result"
    },
    {
     "data": {
      "image/png": "[encoded data removed]",
      "text/plain": [
       "<Figure size 432x288 with 1 Axes>"
      ]
     },
     "metadata": {
      "needs_background": "light"
     },
     "output_type": "display_data"
    }
   ],
   "source": [
    "# Plotting residual histogram in which we can see that residuals follow a bell-shaped curve(normal distribution)\n",
    "sns.distplot((Y_test-y_predicted), bins=50)"
   ]
  },
  {
   "cell_type": "code",
   "execution_count": 274,
   "metadata": {},
   "outputs": [
    {
     "name": "stdout",
     "output_type": "stream",
     "text": [
      "('MAE: ', 6932.791380118979)\n",
      "('MSE: ', 84111559.03477846)\n",
      "('RMSE: ', 9171.235414859791)\n"
     ]
    }
   ],
   "source": [
    "# Now importing metrics from sklearn library\n",
    "from sklearn import metrics\n",
    "# Printing Mean Absolute Error\n",
    "print(\"MAE: \", metrics.mean_absolute_error(Y_test,y_predicted))\n",
    "# Printing Mean Square Error\n",
    "print(\"MSE: \", metrics.mean_squared_error(Y_test,y_predicted))\n",
    "# Printing Root Mean Error\n",
    "print(\"RMSE: \", np.sqrt(metrics.mean_squared_error(Y_test,y_predicted)))"
   ]
  },
  {
   "cell_type": "code",
   "execution_count": 275,
   "metadata": {},
   "outputs": [
    {
     "name": "stdout",
     "output_type": "stream",
     "text": [
      "R-Squared value of model is:\n"
     ]
    },
    {
     "data": {
      "text/plain": [
       "0.6668190672866872"
      ]
     },
     "execution_count": 275,
     "metadata": {},
     "output_type": "execute_result"
    }
   ],
   "source": [
    "# Importing r2_score function from sklearn library for calculating r square score\n",
    "from sklearn.metrics import r2_score  \n",
    "print('R-Squared value of model is:')\n",
    "# Calcualte the r2 score comaparing predicted and actual test data.\n",
    "r2_score(Y_test, y_predicted) "
   ]
  },
  {
   "cell_type": "markdown",
   "metadata": {},
   "source": [
    "Since we are getting a \n",
    "#### R-Squared value of 0.6668190672866872,\n",
    "so our model works perfectly fine"
   ]
  }
 ],
 "metadata": {
  "kernelspec": {
   "display_name": "Python 2",
   "language": "python",
   "name": "python2"
  },
  "language_info": {
   "codemirror_mode": {
    "name": "ipython",
    "version": 2
   },
   "file_extension": ".py",
   "mimetype": "text/x-python",
   "name": "python",
   "nbconvert_exporter": "python",
   "pygments_lexer": "ipython2",
   "version": "2.7.16"
  }
 },
 "nbformat": 4,
 "nbformat_minor": 2
}
